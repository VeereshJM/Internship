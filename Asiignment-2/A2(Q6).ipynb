{
 "cells": [
  {
   "cell_type": "code",
   "execution_count": 1,
   "id": "9c2b8cb3",
   "metadata": {},
   "outputs": [],
   "source": [
    "import selenium\n",
    "import pandas as pd\n",
    "from selenium import webdriver\n",
    "import warnings\n",
    "warnings.filterwarnings('ignore')\n",
    "from selenium.webdriver.common.by import By\n",
    "import time"
   ]
  },
  {
   "cell_type": "code",
   "execution_count": 2,
   "id": "975abde1",
   "metadata": {},
   "outputs": [],
   "source": [
    "driver=webdriver.Chrome(r'C:\\Users\\User\\Desktop\\veeresh\\Internship(test)\\EXTRA/chrommedriver.exe')"
   ]
  },
  {
   "cell_type": "code",
   "execution_count": 3,
   "id": "cabc87a6",
   "metadata": {},
   "outputs": [],
   "source": [
    "driver.get(\"https://www.flipkart.com/\")"
   ]
  },
  {
   "cell_type": "code",
   "execution_count": 4,
   "id": "3cb9bf52",
   "metadata": {},
   "outputs": [],
   "source": [
    "close=driver.find_elements(By.XPATH,'/html/body/div[2]/div/div/button')\n",
    "close[0].click()"
   ]
  },
  {
   "cell_type": "code",
   "execution_count": 5,
   "id": "5e5c1b2d",
   "metadata": {},
   "outputs": [],
   "source": [
    "product=driver.find_elements(By.CLASS_NAME,'_3704LK')\n",
    "product[0].send_keys('Sneakers')"
   ]
  },
  {
   "cell_type": "code",
   "execution_count": 6,
   "id": "41feedbe",
   "metadata": {},
   "outputs": [],
   "source": [
    "search=driver.find_elements(By.CLASS_NAME,'_34RNph')\n",
    "search[0].click()"
   ]
  },
  {
   "cell_type": "code",
   "execution_count": 7,
   "id": "4b5da3dc",
   "metadata": {},
   "outputs": [],
   "source": [
    "brand=[]\n",
    "product=[]\n",
    "price=[]"
   ]
  },
  {
   "cell_type": "code",
   "execution_count": 8,
   "id": "0dfda72a",
   "metadata": {},
   "outputs": [],
   "source": [
    "start=0\n",
    "end=3\n",
    "for page in range(start,end):\n",
    "    brand_tag=driver.find_elements(By.XPATH,'//div[@class=\"_2WkVRV\"]')\n",
    "    for i in brand_tag:\n",
    "        brand.append(i.text)\n",
    "    product_tag=driver.find_elements(By.XPATH,'//a[@class=\"IRpwTa\"]')\n",
    "    for i in product_tag:\n",
    "        product.append(i.text)\n",
    "    price_tag=driver.find_elements(By.XPATH,'//div[@class=\"_30jeq3\"]')\n",
    "    for i in price_tag:\n",
    "        price.append(i.text)\n",
    "    next_button=driver.find_elements(By.XPATH,'//a[@class=\"_1LKTO3\"]')\n",
    "    next_button[0].click()\n",
    "    time.sleep(4)"
   ]
  },
  {
   "cell_type": "code",
   "execution_count": 9,
   "id": "fa2842ec",
   "metadata": {},
   "outputs": [
    {
     "data": {
      "text/plain": [
       "(120, 115, 119)"
      ]
     },
     "execution_count": 9,
     "metadata": {},
     "output_type": "execute_result"
    }
   ],
   "source": [
    "len(brand),len(product),len(price)"
   ]
  },
  {
   "cell_type": "code",
   "execution_count": 10,
   "id": "26965af0",
   "metadata": {},
   "outputs": [],
   "source": [
    "brands=brand[0:100]\n",
    "products=product[0:100]\n",
    "prices=price[0:100]"
   ]
  },
  {
   "cell_type": "code",
   "execution_count": 11,
   "id": "0c017a3f",
   "metadata": {},
   "outputs": [
    {
     "data": {
      "text/html": [
       "<div>\n",
       "<style scoped>\n",
       "    .dataframe tbody tr th:only-of-type {\n",
       "        vertical-align: middle;\n",
       "    }\n",
       "\n",
       "    .dataframe tbody tr th {\n",
       "        vertical-align: top;\n",
       "    }\n",
       "\n",
       "    .dataframe thead th {\n",
       "        text-align: right;\n",
       "    }\n",
       "</style>\n",
       "<table border=\"1\" class=\"dataframe\">\n",
       "  <thead>\n",
       "    <tr style=\"text-align: right;\">\n",
       "      <th></th>\n",
       "      <th>Brand</th>\n",
       "      <th>Product</th>\n",
       "      <th>Price</th>\n",
       "    </tr>\n",
       "  </thead>\n",
       "  <tbody>\n",
       "    <tr>\n",
       "      <th>0</th>\n",
       "      <td>BRUTON</td>\n",
       "      <td>Combo Pack Of 2 Casual Shoes Sneakers For Men</td>\n",
       "      <td>₹499</td>\n",
       "    </tr>\n",
       "    <tr>\n",
       "      <th>1</th>\n",
       "      <td>BRUTON</td>\n",
       "      <td>2 Combo Sneaker Shoes Sneakers For Men</td>\n",
       "      <td>₹599</td>\n",
       "    </tr>\n",
       "    <tr>\n",
       "      <th>2</th>\n",
       "      <td>SFR</td>\n",
       "      <td>2006 Trenddy Fashion Sporty Casuals Sneakers R...</td>\n",
       "      <td>₹299</td>\n",
       "    </tr>\n",
       "    <tr>\n",
       "      <th>3</th>\n",
       "      <td>Kraasa</td>\n",
       "      <td>Sneakers For Women</td>\n",
       "      <td>₹299</td>\n",
       "    </tr>\n",
       "    <tr>\n",
       "      <th>4</th>\n",
       "      <td>BIRDE</td>\n",
       "      <td>Combo Pack Of 2 Casual Shoes Sneakers For Men</td>\n",
       "      <td>₹499</td>\n",
       "    </tr>\n",
       "    <tr>\n",
       "      <th>...</th>\n",
       "      <td>...</td>\n",
       "      <td>...</td>\n",
       "      <td>...</td>\n",
       "    </tr>\n",
       "    <tr>\n",
       "      <th>95</th>\n",
       "      <td>PUMA</td>\n",
       "      <td>Sneakers For Men</td>\n",
       "      <td>₹389</td>\n",
       "    </tr>\n",
       "    <tr>\n",
       "      <th>96</th>\n",
       "      <td>Deals4you</td>\n",
       "      <td>Stylish Trendy Outdoor High Ankle Jordan Boots...</td>\n",
       "      <td>₹499</td>\n",
       "    </tr>\n",
       "    <tr>\n",
       "      <th>97</th>\n",
       "      <td>Labbin</td>\n",
       "      <td>Stylish Trendy Outdoor High Ankle Jordan Boots...</td>\n",
       "      <td>₹279</td>\n",
       "    </tr>\n",
       "    <tr>\n",
       "      <th>98</th>\n",
       "      <td>World Wear Footwear</td>\n",
       "      <td>Premium Sports Shoes For Men Pack Of 2 Sneaker...</td>\n",
       "      <td>₹349</td>\n",
       "    </tr>\n",
       "    <tr>\n",
       "      <th>99</th>\n",
       "      <td>aadi</td>\n",
       "      <td>Casual Shoes Sneakers For Women</td>\n",
       "      <td>₹616</td>\n",
       "    </tr>\n",
       "  </tbody>\n",
       "</table>\n",
       "<p>100 rows × 3 columns</p>\n",
       "</div>"
      ],
      "text/plain": [
       "                  Brand                                            Product  \\\n",
       "0                BRUTON      Combo Pack Of 2 Casual Shoes Sneakers For Men   \n",
       "1                BRUTON             2 Combo Sneaker Shoes Sneakers For Men   \n",
       "2                   SFR  2006 Trenddy Fashion Sporty Casuals Sneakers R...   \n",
       "3                Kraasa                                 Sneakers For Women   \n",
       "4                 BIRDE      Combo Pack Of 2 Casual Shoes Sneakers For Men   \n",
       "..                  ...                                                ...   \n",
       "95                 PUMA                                   Sneakers For Men   \n",
       "96            Deals4you  Stylish Trendy Outdoor High Ankle Jordan Boots...   \n",
       "97               Labbin  Stylish Trendy Outdoor High Ankle Jordan Boots...   \n",
       "98  World Wear Footwear  Premium Sports Shoes For Men Pack Of 2 Sneaker...   \n",
       "99                 aadi                    Casual Shoes Sneakers For Women   \n",
       "\n",
       "   Price  \n",
       "0   ₹499  \n",
       "1   ₹599  \n",
       "2   ₹299  \n",
       "3   ₹299  \n",
       "4   ₹499  \n",
       "..   ...  \n",
       "95  ₹389  \n",
       "96  ₹499  \n",
       "97  ₹279  \n",
       "98  ₹349  \n",
       "99  ₹616  \n",
       "\n",
       "[100 rows x 3 columns]"
      ]
     },
     "execution_count": 11,
     "metadata": {},
     "output_type": "execute_result"
    }
   ],
   "source": [
    "df=pd.DataFrame({'Brand':brands,'Product':products,'Price':prices})\n",
    "df"
   ]
  },
  {
   "cell_type": "code",
   "execution_count": null,
   "id": "f2ddcfc5",
   "metadata": {},
   "outputs": [],
   "source": []
  }
 ],
 "metadata": {
  "kernelspec": {
   "display_name": "Python 3 (ipykernel)",
   "language": "python",
   "name": "python3"
  },
  "language_info": {
   "codemirror_mode": {
    "name": "ipython",
    "version": 3
   },
   "file_extension": ".py",
   "mimetype": "text/x-python",
   "name": "python",
   "nbconvert_exporter": "python",
   "pygments_lexer": "ipython3",
   "version": "3.9.12"
  }
 },
 "nbformat": 4,
 "nbformat_minor": 5
}
