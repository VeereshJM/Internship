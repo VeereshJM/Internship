{
 "cells": [
  {
   "cell_type": "code",
   "execution_count": null,
   "id": "21f6590e",
   "metadata": {},
   "outputs": [],
   "source": [
    "import selenium\n",
    "import pandas as pd\n",
    "from selenium import webdriver\n",
    "import warnings\n",
    "warnings.filterwarnings('ignore')\n",
    "from selenium.webdriver.common.by import By\n",
    "import time"
   ]
  },
  {
   "cell_type": "code",
   "execution_count": null,
   "id": "59677769",
   "metadata": {},
   "outputs": [],
   "source": [
    "driver=webdriver.Chrome(r'C:\\Users\\User\\Desktop\\veeresh\\Internship(test)\\EXTRA/chrommedriver.exe')"
   ]
  },
  {
   "cell_type": "code",
   "execution_count": null,
   "id": "bf4ece03",
   "metadata": {},
   "outputs": [],
   "source": [
    "driver.get('https://www.naukri.com/')"
   ]
  },
  {
   "cell_type": "code",
   "execution_count": null,
   "id": "959bfdf5",
   "metadata": {},
   "outputs": [],
   "source": [
    "designation=driver.find_element(By.CLASS_NAME,'suggestor-input')\n",
    "designation.send_keys('Data Analyst')"
   ]
  },
  {
   "cell_type": "code",
   "execution_count": null,
   "id": "a3025f76",
   "metadata": {},
   "outputs": [],
   "source": [
    "location=driver.find_elements(By.XPATH,\"/html/body/div[1]/div[7]/div/div/div[5]/div/div/div/div[1]/div/input\")\n",
    "location[0].send_keys('Bangalore')"
   ]
  },
  {
   "cell_type": "code",
   "execution_count": null,
   "id": "0c7c29b6",
   "metadata": {},
   "outputs": [],
   "source": [
    "search=driver.find_elements(By.CLASS_NAME,'qsbSubmit')\n",
    "search[0].click()"
   ]
  },
  {
   "cell_type": "code",
   "execution_count": null,
   "id": "f271a794",
   "metadata": {},
   "outputs": [],
   "source": [
    "job_title=[]\n",
    "location=[]\n",
    "name=[]\n",
    "exp=[]\n"
   ]
  },
  {
   "cell_type": "code",
   "execution_count": null,
   "id": "6242eb26",
   "metadata": {},
   "outputs": [],
   "source": [
    "title_tags=driver.find_elements(By.XPATH,'//a[@class=\"title ellipsis\"]')\n",
    "for i in title_tags[0:10]:\n",
    "    job_title.append(i.text)\n",
    "location_tags=driver.find_elements(By.XPATH,'//span[@class=\"ellipsis fleft locWdth\"]')\n",
    "for i in location_tags[0:10]:\n",
    "    location.append(i.text)\n",
    "company_tags=driver.find_elements(By.XPATH,'//a[@class=\"subTitle ellipsis fleft\"]')\n",
    "for i in company_tags[0:10]:\n",
    "    name.append(i.text)\n",
    "exp_tag=driver.find_elements(By.XPATH,'//span[@class=\"ellipsis fleft expwdth\"]')\n",
    "for i in exp_tag[0:10]:\n",
    "    exp.append(i.text)"
   ]
  },
  {
   "cell_type": "code",
   "execution_count": null,
   "id": "0d8e5378",
   "metadata": {},
   "outputs": [],
   "source": [
    "len(job_title),len(location),len(name),len(exp)"
   ]
  },
  {
   "cell_type": "code",
   "execution_count": null,
   "id": "eddd3a83",
   "metadata": {},
   "outputs": [],
   "source": [
    "df=pd.DataFrame({'title':job_title,'location':location,'name':name,'exp':exp})\n",
    "df"
   ]
  },
  {
   "cell_type": "code",
   "execution_count": null,
   "id": "2c457bc5",
   "metadata": {},
   "outputs": [],
   "source": []
  }
 ],
 "metadata": {
  "kernelspec": {
   "display_name": "Python 3 (ipykernel)",
   "language": "python",
   "name": "python3"
  },
  "language_info": {
   "codemirror_mode": {
    "name": "ipython",
    "version": 3
   },
   "file_extension": ".py",
   "mimetype": "text/x-python",
   "name": "python",
   "nbconvert_exporter": "python",
   "pygments_lexer": "ipython3",
   "version": "3.9.12"
  }
 },
 "nbformat": 4,
 "nbformat_minor": 5
}
