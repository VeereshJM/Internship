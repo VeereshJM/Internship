{
 "cells": [
  {
   "cell_type": "code",
   "execution_count": null,
   "id": "9cd542a0",
   "metadata": {},
   "outputs": [],
   "source": [
    "import selenium\n",
    "import pandas as pd\n",
    "from selenium import webdriver\n",
    "import warnings\n",
    "warnings.filterwarnings('ignore')\n",
    "from selenium.webdriver.common.by import By\n",
    "import time"
   ]
  },
  {
   "cell_type": "code",
   "execution_count": null,
   "id": "131cd071",
   "metadata": {},
   "outputs": [],
   "source": [
    "driver=webdriver.Chrome(r'C:\\Users\\User\\Desktop\\veeresh\\Internship(test)\\EXTRA/chrommedriver.exe')"
   ]
  },
  {
   "cell_type": "code",
   "execution_count": null,
   "id": "747a56a8",
   "metadata": {},
   "outputs": [],
   "source": [
    "driver.get(\"https://www.motor1.com/\")"
   ]
  },
  {
   "cell_type": "code",
   "execution_count": null,
   "id": "18e77dae",
   "metadata": {},
   "outputs": [],
   "source": [
    "car=driver.find_elements(By.XPATH,'/html/body/div[3]/div[2]/div/div/div[3]/div/div/div/form/input')\n",
    "car[0].send_keys(\"50 most expensive cars in the world\")"
   ]
  },
  {
   "cell_type": "code",
   "execution_count": null,
   "id": "ef5d2aee",
   "metadata": {},
   "outputs": [],
   "source": [
    "search=driver.find_elements(By.XPATH,'/html/body/div[3]/div[2]/div/div/div[3]/div/div/div/form/button[1]')\n",
    "search[0].click()"
   ]
  },
  {
   "cell_type": "code",
   "execution_count": null,
   "id": "71f03571",
   "metadata": {},
   "outputs": [],
   "source": [
    "expensive_cars=driver.find_elements(By.XPATH,'/html/body/div[3]/div[9]/div/div[1]/div/div/div[1]/div/div[1]/h3/a')\n",
    "expensive_cars[0].click()"
   ]
  },
  {
   "cell_type": "code",
   "execution_count": null,
   "id": "b841667f",
   "metadata": {},
   "outputs": [],
   "source": [
    "name=[]\n",
    "price=[]\n",
    "description=[]"
   ]
  },
  {
   "cell_type": "code",
   "execution_count": null,
   "id": "249def6b",
   "metadata": {},
   "outputs": [],
   "source": [
    "name_tag=driver.find_elements(By.XPATH,'//h3[@class=\"subheader\"]')\n",
    "for i in name_tag:\n",
    "    name.append(i.text)\n",
    "price_tag=driver.find_elements(By.XPATH,'//strong')\n",
    "for i in price_tag:\n",
    "    price.append(i.text)"
   ]
  },
  {
   "cell_type": "code",
   "execution_count": null,
   "id": "203f2922",
   "metadata": {},
   "outputs": [],
   "source": [
    "df=pd.DataFrame({'Name':name,'Price':price})\n",
    "df"
   ]
  },
  {
   "cell_type": "code",
   "execution_count": null,
   "id": "d6f4a0cd",
   "metadata": {},
   "outputs": [],
   "source": [
    "len(name),len(price)"
   ]
  },
  {
   "cell_type": "code",
   "execution_count": null,
   "id": "b876baf0",
   "metadata": {},
   "outputs": [],
   "source": []
  }
 ],
 "metadata": {
  "kernelspec": {
   "display_name": "Python 3 (ipykernel)",
   "language": "python",
   "name": "python3"
  },
  "language_info": {
   "codemirror_mode": {
    "name": "ipython",
    "version": 3
   },
   "file_extension": ".py",
   "mimetype": "text/x-python",
   "name": "python",
   "nbconvert_exporter": "python",
   "pygments_lexer": "ipython3",
   "version": "3.9.12"
  }
 },
 "nbformat": 4,
 "nbformat_minor": 5
}
