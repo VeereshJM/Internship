{
 "cells": [
  {
   "cell_type": "code",
   "execution_count": null,
   "id": "e03ec256",
   "metadata": {},
   "outputs": [],
   "source": [
    "import selenium\n",
    "import pandas as pd\n",
    "from selenium import webdriver\n",
    "import warnings\n",
    "warnings.filterwarnings('ignore')\n",
    "from selenium.webdriver.common.by import By\n",
    "import time"
   ]
  },
  {
   "cell_type": "code",
   "execution_count": null,
   "id": "cc3464a9",
   "metadata": {},
   "outputs": [],
   "source": [
    "driver=webdriver.Chrome(r'C:\\Users\\User\\Desktop\\veeresh\\Internship(test)\\EXTRA/chrommedriver.exe')"
   ]
  },
  {
   "cell_type": "code",
   "execution_count": null,
   "id": "bb6afd78",
   "metadata": {},
   "outputs": [],
   "source": [
    "driver.get(\"https://www.naukri.com/\")"
   ]
  },
  {
   "cell_type": "code",
   "execution_count": null,
   "id": "d782267d",
   "metadata": {},
   "outputs": [],
   "source": [
    "skill=driver.find_elements(By.CLASS_NAME,'suggestor-input ')\n",
    "skill[0].send_keys('Data Scientist')"
   ]
  },
  {
   "cell_type": "code",
   "execution_count": null,
   "id": "27c21bcb",
   "metadata": {},
   "outputs": [],
   "source": [
    "search=driver.find_elements(By.CLASS_NAME,'qsbSubmit')\n",
    "search[0].click()"
   ]
  },
  {
   "cell_type": "code",
   "execution_count": null,
   "id": "cf342ff0",
   "metadata": {},
   "outputs": [],
   "source": [
    "filter=driver.find_elements(By.XPATH,'/html/body/div[1]/div[4]/div/div/section[1]/div[2]/div[5]/div[2]/div[2]/label/i')\n",
    "filter[0].click()"
   ]
  },
  {
   "cell_type": "code",
   "execution_count": null,
   "id": "223230bc",
   "metadata": {},
   "outputs": [],
   "source": [
    "salary=driver.find_elements(By.XPATH,'/html/body/div[1]/div[4]/div/div/section[1]/div[2]/div[6]/div[2]/div[2]/label/i')\n",
    "salary[0].click()"
   ]
  },
  {
   "cell_type": "code",
   "execution_count": null,
   "id": "09f10b2b",
   "metadata": {},
   "outputs": [],
   "source": [
    "title=[]\n",
    "location=[]\n",
    "company=[]\n",
    "exp=[]"
   ]
  },
  {
   "cell_type": "code",
   "execution_count": null,
   "id": "8ddb8292",
   "metadata": {},
   "outputs": [],
   "source": [
    "title_tag=driver.find_elements(By.XPATH,'//a[@class=\"title ellipsis\"]')\n",
    "for i in title_tag[0:10]:\n",
    "    title.append(i.text)\n",
    "location_tag=driver.find_elements(By.XPATH,'//span[@class=\"ellipsis fleft locWdth\"]')\n",
    "for i in location_tag[0:10]:\n",
    "    location.append(i.text)\n",
    "company_tag=driver.find_elements(By.XPATH,'//a[@class=\"subTitle ellipsis fleft\"]')\n",
    "for i in company_tag[0:10]:\n",
    "    company.append(i.text)\n",
    "exp_tag=driver.find_elements(By.XPATH,'//span[@class=\"ellipsis fleft expwdth\"]')\n",
    "for i in exp_tag[0:10]:\n",
    "    exp.append(i.text)"
   ]
  },
  {
   "cell_type": "code",
   "execution_count": null,
   "id": "cb24d1cf",
   "metadata": {},
   "outputs": [],
   "source": [
    "len(title),len(location),len(company),len(exp)"
   ]
  },
  {
   "cell_type": "code",
   "execution_count": null,
   "id": "71948a60",
   "metadata": {},
   "outputs": [],
   "source": [
    "df=pd.DataFrame({'Title':title,'Location':location,'Company':company,'Experience':exp})\n",
    "df"
   ]
  },
  {
   "cell_type": "code",
   "execution_count": null,
   "id": "947a39fd",
   "metadata": {},
   "outputs": [],
   "source": []
  }
 ],
 "metadata": {
  "kernelspec": {
   "display_name": "Python 3 (ipykernel)",
   "language": "python",
   "name": "python3"
  },
  "language_info": {
   "codemirror_mode": {
    "name": "ipython",
    "version": 3
   },
   "file_extension": ".py",
   "mimetype": "text/x-python",
   "name": "python",
   "nbconvert_exporter": "python",
   "pygments_lexer": "ipython3",
   "version": "3.9.12"
  }
 },
 "nbformat": 4,
 "nbformat_minor": 5
}
