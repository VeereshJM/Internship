{
 "cells": [
  {
   "cell_type": "code",
   "execution_count": 1,
   "id": "b945ab69",
   "metadata": {},
   "outputs": [],
   "source": [
    "import selenium\n",
    "import pandas as pd\n",
    "from selenium import webdriver\n",
    "import warnings\n",
    "warnings.filterwarnings('ignore')\n",
    "from selenium.webdriver.common.by import By\n",
    "import time"
   ]
  },
  {
   "cell_type": "code",
   "execution_count": 2,
   "id": "88a0f246",
   "metadata": {},
   "outputs": [],
   "source": [
    "driver=webdriver.Chrome(r'C:\\Users\\User\\Desktop\\veeresh\\Internship(test)\\EXTRA/chrommedriver.exe')"
   ]
  },
  {
   "cell_type": "code",
   "execution_count": 3,
   "id": "0a9309f8",
   "metadata": {},
   "outputs": [],
   "source": [
    "driver.get(\"https://www.flipkart.com/\")"
   ]
  },
  {
   "cell_type": "code",
   "execution_count": 4,
   "id": "72171157",
   "metadata": {},
   "outputs": [],
   "source": [
    "close=driver.find_elements(By.XPATH,'/html/body/div[2]/div/div/button')\n",
    "close[0].click()"
   ]
  },
  {
   "cell_type": "code",
   "execution_count": 5,
   "id": "ea65f167",
   "metadata": {},
   "outputs": [],
   "source": [
    "product=driver.find_elements(By.CLASS_NAME,'_3704LK')\n",
    "product[0].send_keys('Sunglasses')"
   ]
  },
  {
   "cell_type": "code",
   "execution_count": 6,
   "id": "fd057e3e",
   "metadata": {},
   "outputs": [],
   "source": [
    "search=driver.find_elements(By.CLASS_NAME,'_34RNph')\n",
    "search[0].click()"
   ]
  },
  {
   "cell_type": "code",
   "execution_count": 7,
   "id": "0e318c59",
   "metadata": {},
   "outputs": [],
   "source": [
    "name=[]\n",
    "brand=[]\n",
    "description=[]\n",
    "price=[]"
   ]
  },
  {
   "cell_type": "code",
   "execution_count": 8,
   "id": "86da420c",
   "metadata": {},
   "outputs": [],
   "source": [
    "start=0\n",
    "end=3\n",
    "for page in range(start,end):\n",
    "    name_tag=driver.find_elements(By.XPATH,'//a[@class=\"IRpwTa\"]')\n",
    "    for i in name_tag:\n",
    "        name.append(i.text)\n",
    "    brand_tag=driver.find_elements(By.XPATH,'//div[@class=\"_2WkVRV\"]')\n",
    "    for i in brand_tag:\n",
    "        brand.append(i.text)\n",
    "    price_tag=driver.find_elements(By.XPATH,'//div[@class=\"_30jeq3\"]')\n",
    "    for i in price_tag:\n",
    "        price.append(i.text)\n",
    "next_button=driver.find_elements(By.XPATH,'//a[@class=\"_1LKTO3\"]')\n",
    "next_button[0].click()\n",
    "time.sleep(4)"
   ]
  },
  {
   "cell_type": "code",
   "execution_count": 9,
   "id": "9423a708",
   "metadata": {},
   "outputs": [
    {
     "data": {
      "text/plain": [
       "(117, 120, 120)"
      ]
     },
     "execution_count": 9,
     "metadata": {},
     "output_type": "execute_result"
    }
   ],
   "source": [
    "len(name),len(brand),len(price)"
   ]
  },
  {
   "cell_type": "code",
   "execution_count": 10,
   "id": "af334da7",
   "metadata": {},
   "outputs": [],
   "source": [
    "names=name[0:100]"
   ]
  },
  {
   "cell_type": "code",
   "execution_count": 11,
   "id": "2189fadd",
   "metadata": {},
   "outputs": [],
   "source": [
    "brands=brand[0:100]"
   ]
  },
  {
   "cell_type": "code",
   "execution_count": 12,
   "id": "62aa9a59",
   "metadata": {},
   "outputs": [],
   "source": [
    "prices=price[0:100]"
   ]
  },
  {
   "cell_type": "code",
   "execution_count": 13,
   "id": "72261679",
   "metadata": {},
   "outputs": [
    {
     "data": {
      "text/html": [
       "<div>\n",
       "<style scoped>\n",
       "    .dataframe tbody tr th:only-of-type {\n",
       "        vertical-align: middle;\n",
       "    }\n",
       "\n",
       "    .dataframe tbody tr th {\n",
       "        vertical-align: top;\n",
       "    }\n",
       "\n",
       "    .dataframe thead th {\n",
       "        text-align: right;\n",
       "    }\n",
       "</style>\n",
       "<table border=\"1\" class=\"dataframe\">\n",
       "  <thead>\n",
       "    <tr style=\"text-align: right;\">\n",
       "      <th></th>\n",
       "      <th>name</th>\n",
       "      <th>brand</th>\n",
       "      <th>price</th>\n",
       "    </tr>\n",
       "  </thead>\n",
       "  <tbody>\n",
       "    <tr>\n",
       "      <th>0</th>\n",
       "      <td>UV Protection Wayfarer Sunglasses (50)</td>\n",
       "      <td>Hooper</td>\n",
       "      <td>₹597</td>\n",
       "    </tr>\n",
       "    <tr>\n",
       "      <th>1</th>\n",
       "      <td>UV Protection, Gradient Butterfly, Retro Squar...</td>\n",
       "      <td>AISLIN</td>\n",
       "      <td>₹445</td>\n",
       "    </tr>\n",
       "    <tr>\n",
       "      <th>2</th>\n",
       "      <td>UV Protection Wayfarer Sunglasses (50)</td>\n",
       "      <td>SRPM</td>\n",
       "      <td>₹149</td>\n",
       "    </tr>\n",
       "    <tr>\n",
       "      <th>3</th>\n",
       "      <td>UV Protection Cat-eye, Retro Square, Oval, Rou...</td>\n",
       "      <td>Elligator</td>\n",
       "      <td>₹149</td>\n",
       "    </tr>\n",
       "    <tr>\n",
       "      <th>4</th>\n",
       "      <td>UV Protection Aviator Sunglasses (Free Size)</td>\n",
       "      <td>PIRASO</td>\n",
       "      <td>₹268</td>\n",
       "    </tr>\n",
       "    <tr>\n",
       "      <th>...</th>\n",
       "      <td>...</td>\n",
       "      <td>...</td>\n",
       "      <td>...</td>\n",
       "    </tr>\n",
       "    <tr>\n",
       "      <th>95</th>\n",
       "      <td>UV Protection Round Sunglasses (53)</td>\n",
       "      <td>john jacobs</td>\n",
       "      <td>₹2,000</td>\n",
       "    </tr>\n",
       "    <tr>\n",
       "      <th>96</th>\n",
       "      <td>UV Protection, Gradient Cat-eye Sunglasses (61)</td>\n",
       "      <td>Fastrack</td>\n",
       "      <td>₹489</td>\n",
       "    </tr>\n",
       "    <tr>\n",
       "      <th>97</th>\n",
       "      <td>UV Protection Sports Sunglasses (65)</td>\n",
       "      <td>SHAAH COLLECTIONS</td>\n",
       "      <td>₹185</td>\n",
       "    </tr>\n",
       "    <tr>\n",
       "      <th>98</th>\n",
       "      <td>UV Protection Aviator Sunglasses (58)</td>\n",
       "      <td>Elligator</td>\n",
       "      <td>₹149</td>\n",
       "    </tr>\n",
       "    <tr>\n",
       "      <th>99</th>\n",
       "      <td>UV Protection Aviator Sunglasses (Free Size)</td>\n",
       "      <td>AISLIN</td>\n",
       "      <td>₹415</td>\n",
       "    </tr>\n",
       "  </tbody>\n",
       "</table>\n",
       "<p>100 rows × 3 columns</p>\n",
       "</div>"
      ],
      "text/plain": [
       "                                                 name              brand  \\\n",
       "0              UV Protection Wayfarer Sunglasses (50)             Hooper   \n",
       "1   UV Protection, Gradient Butterfly, Retro Squar...             AISLIN   \n",
       "2              UV Protection Wayfarer Sunglasses (50)               SRPM   \n",
       "3   UV Protection Cat-eye, Retro Square, Oval, Rou...          Elligator   \n",
       "4        UV Protection Aviator Sunglasses (Free Size)             PIRASO   \n",
       "..                                                ...                ...   \n",
       "95                UV Protection Round Sunglasses (53)        john jacobs   \n",
       "96    UV Protection, Gradient Cat-eye Sunglasses (61)           Fastrack   \n",
       "97               UV Protection Sports Sunglasses (65)  SHAAH COLLECTIONS   \n",
       "98              UV Protection Aviator Sunglasses (58)          Elligator   \n",
       "99       UV Protection Aviator Sunglasses (Free Size)             AISLIN   \n",
       "\n",
       "     price  \n",
       "0     ₹597  \n",
       "1     ₹445  \n",
       "2     ₹149  \n",
       "3     ₹149  \n",
       "4     ₹268  \n",
       "..     ...  \n",
       "95  ₹2,000  \n",
       "96    ₹489  \n",
       "97    ₹185  \n",
       "98    ₹149  \n",
       "99    ₹415  \n",
       "\n",
       "[100 rows x 3 columns]"
      ]
     },
     "execution_count": 13,
     "metadata": {},
     "output_type": "execute_result"
    }
   ],
   "source": [
    "df=pd.DataFrame({'name':names,'brand':brands,'price':prices})\n",
    "df"
   ]
  },
  {
   "cell_type": "code",
   "execution_count": null,
   "id": "aa888e6b",
   "metadata": {},
   "outputs": [],
   "source": []
  }
 ],
 "metadata": {
  "kernelspec": {
   "display_name": "Python 3 (ipykernel)",
   "language": "python",
   "name": "python3"
  },
  "language_info": {
   "codemirror_mode": {
    "name": "ipython",
    "version": 3
   },
   "file_extension": ".py",
   "mimetype": "text/x-python",
   "name": "python",
   "nbconvert_exporter": "python",
   "pygments_lexer": "ipython3",
   "version": "3.9.12"
  }
 },
 "nbformat": 4,
 "nbformat_minor": 5
}
