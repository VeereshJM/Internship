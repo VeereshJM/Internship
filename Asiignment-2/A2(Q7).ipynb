{
 "cells": [
  {
   "cell_type": "code",
   "execution_count": 1,
   "id": "1b8b84ea",
   "metadata": {},
   "outputs": [],
   "source": [
    "import selenium\n",
    "import pandas as pd\n",
    "from selenium import webdriver\n",
    "import warnings\n",
    "warnings.filterwarnings('ignore')\n",
    "from selenium.webdriver.common.by import By\n",
    "import time"
   ]
  },
  {
   "cell_type": "code",
   "execution_count": 2,
   "id": "d2f665ed",
   "metadata": {},
   "outputs": [],
   "source": [
    "driver=webdriver.Chrome(r'C:\\Users\\User\\Desktop\\veeresh\\Internship(test)\\EXTRA/chrommedriver.exe')"
   ]
  },
  {
   "cell_type": "code",
   "execution_count": 3,
   "id": "b29b640d",
   "metadata": {},
   "outputs": [],
   "source": [
    "driver.get(\"https://www.amazon.com/\")"
   ]
  },
  {
   "cell_type": "code",
   "execution_count": 4,
   "id": "8df77250",
   "metadata": {},
   "outputs": [],
   "source": [
    "product=driver.find_elements(By.XPATH,'/html/body/div[1]/header/div/div[1]/div[2]/div/form/div[2]/div[1]/input')\n",
    "product[0].send_keys('Laptop')"
   ]
  },
  {
   "cell_type": "code",
   "execution_count": 5,
   "id": "00d0e31e",
   "metadata": {},
   "outputs": [],
   "source": [
    "search=driver.find_elements(By.XPATH,'/html/body/div[1]/header/div/div[1]/div[2]/div/form/div[3]/div/span/input')\n",
    "search[0].click()"
   ]
  },
  {
   "cell_type": "code",
   "execution_count": 6,
   "id": "ad13fb65",
   "metadata": {},
   "outputs": [],
   "source": [
    "filter=driver.find_elements(By.XPATH,'/html/body/div[1]/div[2]/div[1]/div[2]/div/div[3]/span/div[1]/div/div/div[6]/ul[7]/li[6]/span/div/div/ul/li[14]/span/a/div')\n",
    "filter[0].click()"
   ]
  },
  {
   "cell_type": "code",
   "execution_count": 7,
   "id": "b9a5aee5",
   "metadata": {},
   "outputs": [],
   "source": [
    "title=[]\n",
    "rating=[]\n",
    "price=[]"
   ]
  },
  {
   "cell_type": "code",
   "execution_count": 8,
   "id": "a2cfd28f",
   "metadata": {},
   "outputs": [],
   "source": [
    "title_tag=driver.find_elements(By.XPATH,'//span[@class=\"a-size-medium a-color-base a-text-normal\"]')\n",
    "for i in title_tag[0:10]:\n",
    "    title.append(i.text)\n",
    "rating_tag=driver.find_elements(By.XPATH,'//span[@class=\"a-size-base\"]')\n",
    "for i in rating_tag[0:10]:\n",
    "    rating.append(i.text)\n",
    "price_tag=driver.find_elements(By.XPATH,'//span[@class=\"a-price-whole\"]')\n",
    "for i in price_tag[0:10]:\n",
    "    price.append(i.text)"
   ]
  },
  {
   "cell_type": "code",
   "execution_count": 9,
   "id": "26d1b803",
   "metadata": {},
   "outputs": [
    {
     "data": {
      "text/plain": [
       "(10, 10, 10)"
      ]
     },
     "execution_count": 9,
     "metadata": {},
     "output_type": "execute_result"
    }
   ],
   "source": [
    "len(title),len(rating),len(price)"
   ]
  },
  {
   "cell_type": "code",
   "execution_count": 11,
   "id": "73b8e4b0",
   "metadata": {},
   "outputs": [
    {
     "data": {
      "text/html": [
       "<div>\n",
       "<style scoped>\n",
       "    .dataframe tbody tr th:only-of-type {\n",
       "        vertical-align: middle;\n",
       "    }\n",
       "\n",
       "    .dataframe tbody tr th {\n",
       "        vertical-align: top;\n",
       "    }\n",
       "\n",
       "    .dataframe thead th {\n",
       "        text-align: right;\n",
       "    }\n",
       "</style>\n",
       "<table border=\"1\" class=\"dataframe\">\n",
       "  <thead>\n",
       "    <tr style=\"text-align: right;\">\n",
       "      <th></th>\n",
       "      <th>Title</th>\n",
       "      <th>Rating</th>\n",
       "      <th>Price in dollars</th>\n",
       "    </tr>\n",
       "  </thead>\n",
       "  <tbody>\n",
       "    <tr>\n",
       "      <th>0</th>\n",
       "      <td>HP Newest Flagship 15.6 FHD IPS Laptop for Bus...</td>\n",
       "      <td>4.1</td>\n",
       "      <td>849</td>\n",
       "    </tr>\n",
       "    <tr>\n",
       "      <th>1</th>\n",
       "      <td>Lenovo 2023 Newest IdeaPad 3 Laptop, 14 Inch F...</td>\n",
       "      <td>4.2</td>\n",
       "      <td>499</td>\n",
       "    </tr>\n",
       "    <tr>\n",
       "      <th>2</th>\n",
       "      <td>ASUS TUF Dash 15 (2022) Gaming Laptop, 15.6\" 1...</td>\n",
       "      <td>4.5</td>\n",
       "      <td>1,149</td>\n",
       "    </tr>\n",
       "    <tr>\n",
       "      <th>3</th>\n",
       "      <td>MSI Pulse GL66 15.6\" FHD 144Hz Gaming Laptop: ...</td>\n",
       "      <td>4.4</td>\n",
       "      <td>1,238</td>\n",
       "    </tr>\n",
       "    <tr>\n",
       "      <th>4</th>\n",
       "      <td>Acer Nitro 5 AN515-57-79TD Gaming Laptop | Int...</td>\n",
       "      <td>4.4</td>\n",
       "      <td>739</td>\n",
       "    </tr>\n",
       "    <tr>\n",
       "      <th>5</th>\n",
       "      <td>HP Laptop, 17.3” HD+ Touchscreen Display, Inte...</td>\n",
       "      <td>4.4</td>\n",
       "      <td>589</td>\n",
       "    </tr>\n",
       "    <tr>\n",
       "      <th>6</th>\n",
       "      <td>Lenovo IdeaPad 3 14\" FHD Screen, Intel Core i7...</td>\n",
       "      <td>4.9</td>\n",
       "      <td>887</td>\n",
       "    </tr>\n",
       "    <tr>\n",
       "      <th>7</th>\n",
       "      <td>Lenovo V15 G2 Business Laptop, 15.6\" FHD Displ...</td>\n",
       "      <td>4.3</td>\n",
       "      <td>899</td>\n",
       "    </tr>\n",
       "    <tr>\n",
       "      <th>8</th>\n",
       "      <td>HP Newest 17t Laptop, 17.3'' HD+ Touchscreen, ...</td>\n",
       "      <td>4.5</td>\n",
       "      <td>974</td>\n",
       "    </tr>\n",
       "    <tr>\n",
       "      <th>9</th>\n",
       "      <td>HP ProBook 450 G9 15.6\" Notebook - Full HD - 1...</td>\n",
       "      <td>4.6</td>\n",
       "      <td>599</td>\n",
       "    </tr>\n",
       "  </tbody>\n",
       "</table>\n",
       "</div>"
      ],
      "text/plain": [
       "                                               Title Rating Price in dollars\n",
       "0  HP Newest Flagship 15.6 FHD IPS Laptop for Bus...    4.1              849\n",
       "1  Lenovo 2023 Newest IdeaPad 3 Laptop, 14 Inch F...    4.2              499\n",
       "2  ASUS TUF Dash 15 (2022) Gaming Laptop, 15.6\" 1...    4.5            1,149\n",
       "3  MSI Pulse GL66 15.6\" FHD 144Hz Gaming Laptop: ...    4.4            1,238\n",
       "4  Acer Nitro 5 AN515-57-79TD Gaming Laptop | Int...    4.4              739\n",
       "5  HP Laptop, 17.3” HD+ Touchscreen Display, Inte...    4.4              589\n",
       "6  Lenovo IdeaPad 3 14\" FHD Screen, Intel Core i7...    4.9              887\n",
       "7  Lenovo V15 G2 Business Laptop, 15.6\" FHD Displ...    4.3              899\n",
       "8  HP Newest 17t Laptop, 17.3'' HD+ Touchscreen, ...    4.5              974\n",
       "9  HP ProBook 450 G9 15.6\" Notebook - Full HD - 1...    4.6              599"
      ]
     },
     "execution_count": 11,
     "metadata": {},
     "output_type": "execute_result"
    }
   ],
   "source": [
    "df=pd.DataFrame({'Title':title,'Rating':rating,'Price in dollars':price})\n",
    "df"
   ]
  },
  {
   "cell_type": "code",
   "execution_count": null,
   "id": "7e130777",
   "metadata": {},
   "outputs": [],
   "source": []
  }
 ],
 "metadata": {
  "kernelspec": {
   "display_name": "Python 3 (ipykernel)",
   "language": "python",
   "name": "python3"
  },
  "language_info": {
   "codemirror_mode": {
    "name": "ipython",
    "version": 3
   },
   "file_extension": ".py",
   "mimetype": "text/x-python",
   "name": "python",
   "nbconvert_exporter": "python",
   "pygments_lexer": "ipython3",
   "version": "3.9.12"
  }
 },
 "nbformat": 4,
 "nbformat_minor": 5
}
