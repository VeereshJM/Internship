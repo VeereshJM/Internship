{
 "cells": [
  {
   "cell_type": "code",
   "execution_count": null,
   "id": "7f23cd50",
   "metadata": {},
   "outputs": [],
   "source": [
    "from bs4 import BeautifulSoup\n",
    "import requests\n",
    "import selenium\n",
    "from selenium import webdriver\n",
    "from selenium.webdriver.common.by import By\n",
    "from selenium.common.exceptions import NoSuchElementException,StaleElementReferenceException\n",
    "import time\n",
    "import pandas as pd\n",
    "import warnings\n",
    "warnings.filterwarnings('ignore')"
   ]
  },
  {
   "cell_type": "code",
   "execution_count": 10,
   "id": "1c41249b",
   "metadata": {},
   "outputs": [],
   "source": [
    "driver=webdriver.Chrome(r'C:\\Users\\User\\Desktop\\veeresh\\Internship(test)/chromedriver.exe')"
   ]
  },
  {
   "cell_type": "code",
   "execution_count": 11,
   "id": "9f0cab7d",
   "metadata": {},
   "outputs": [],
   "source": [
    "driver.get('https://www.forbes.com/billionaires/')"
   ]
  },
  {
   "cell_type": "code",
   "execution_count": 12,
   "id": "2f282d4e",
   "metadata": {},
   "outputs": [
    {
     "data": {
      "text/plain": [
       "800"
      ]
     },
     "execution_count": 12,
     "metadata": {},
     "output_type": "execute_result"
    }
   ],
   "source": [
    "name=[]\n",
    "name_tag=driver.find_elements(By.XPATH,'//div[@class=\"Table_dataCell__2QCve\"]')\n",
    "for i in name_tag:\n",
    "    name.append(i.text.split(\",\"))\n",
    "len(name)"
   ]
  },
  {
   "cell_type": "code",
   "execution_count": 13,
   "id": "ed4ccc98",
   "metadata": {},
   "outputs": [
    {
     "data": {
      "text/plain": [
       "[['Bernard Arnault & family'],\n",
       " ['74'],\n",
       " ['LVMH'],\n",
       " [''],\n",
       " ['Elon Musk'],\n",
       " ['51'],\n",
       " ['Tesla', ' SpaceX'],\n",
       " [''],\n",
       " ['Jeff Bezos'],\n",
       " ['59'],\n",
       " ['Amazon'],\n",
       " [''],\n",
       " ['Larry Ellison'],\n",
       " ['78'],\n",
       " ['Oracle'],\n",
       " [''],\n",
       " ['Warren Buffett'],\n",
       " ['92'],\n",
       " ['Berkshire Hathaway'],\n",
       " [''],\n",
       " ['Bill Gates'],\n",
       " ['67'],\n",
       " ['Microsoft'],\n",
       " [''],\n",
       " ['Michael Bloomberg'],\n",
       " ['81'],\n",
       " ['Bloomberg LP'],\n",
       " [''],\n",
       " ['Carlos Slim Helu & family'],\n",
       " ['83'],\n",
       " ['Telecom'],\n",
       " [''],\n",
       " ['Mukesh Ambani'],\n",
       " ['65'],\n",
       " ['Diversified'],\n",
       " [''],\n",
       " ['Steve Ballmer'],\n",
       " ['67'],\n",
       " ['Microsoft'],\n",
       " ['']]"
      ]
     },
     "execution_count": 13,
     "metadata": {},
     "output_type": "execute_result"
    }
   ],
   "source": [
    "nm=name[0:40]\n",
    "nm"
   ]
  },
  {
   "cell_type": "code",
   "execution_count": 16,
   "id": "0aa3202f",
   "metadata": {},
   "outputs": [],
   "source": [
    "names=[]\n",
    "names.extend([nm[0],nm[4]])\n",
    "names.extend([nm[8],nm[12]])\n",
    "names.extend([nm[16],nm[20]])\n",
    "names.extend([nm[24],nm[28]])\n",
    "names.extend([nm[32],nm[36]])"
   ]
  },
  {
   "cell_type": "code",
   "execution_count": 17,
   "id": "021dfac7",
   "metadata": {},
   "outputs": [],
   "source": [
    "age=[]\n",
    "age.extend([nm[1],nm[5]])\n",
    "age.extend([nm[9],nm[13]])\n",
    "age.extend([nm[17],nm[21]])\n",
    "age.extend([nm[25],nm[29]])\n",
    "age.extend([nm[33],nm[37]])"
   ]
  },
  {
   "cell_type": "code",
   "execution_count": 18,
   "id": "ad9f7b89",
   "metadata": {},
   "outputs": [],
   "source": [
    "source=[]\n",
    "source.extend([nm[2],nm[6]])\n",
    "source.extend([nm[10],nm[14]])\n",
    "source.extend([nm[18],nm[22]])\n",
    "source.extend([nm[26],nm[30]])\n",
    "source.extend([nm[34],nm[38]])"
   ]
  },
  {
   "cell_type": "code",
   "execution_count": 19,
   "id": "d51fb06c",
   "metadata": {},
   "outputs": [
    {
     "data": {
      "text/html": [
       "<div>\n",
       "<style scoped>\n",
       "    .dataframe tbody tr th:only-of-type {\n",
       "        vertical-align: middle;\n",
       "    }\n",
       "\n",
       "    .dataframe tbody tr th {\n",
       "        vertical-align: top;\n",
       "    }\n",
       "\n",
       "    .dataframe thead th {\n",
       "        text-align: right;\n",
       "    }\n",
       "</style>\n",
       "<table border=\"1\" class=\"dataframe\">\n",
       "  <thead>\n",
       "    <tr style=\"text-align: right;\">\n",
       "      <th></th>\n",
       "      <th>Name</th>\n",
       "      <th>Age</th>\n",
       "      <th>Source</th>\n",
       "    </tr>\n",
       "  </thead>\n",
       "  <tbody>\n",
       "    <tr>\n",
       "      <th>0</th>\n",
       "      <td>[Bernard Arnault &amp; family]</td>\n",
       "      <td>[74]</td>\n",
       "      <td>[LVMH]</td>\n",
       "    </tr>\n",
       "    <tr>\n",
       "      <th>1</th>\n",
       "      <td>[Elon Musk]</td>\n",
       "      <td>[51]</td>\n",
       "      <td>[Tesla,  SpaceX]</td>\n",
       "    </tr>\n",
       "    <tr>\n",
       "      <th>2</th>\n",
       "      <td>[Jeff Bezos]</td>\n",
       "      <td>[59]</td>\n",
       "      <td>[Amazon]</td>\n",
       "    </tr>\n",
       "    <tr>\n",
       "      <th>3</th>\n",
       "      <td>[Larry Ellison]</td>\n",
       "      <td>[78]</td>\n",
       "      <td>[Oracle]</td>\n",
       "    </tr>\n",
       "    <tr>\n",
       "      <th>4</th>\n",
       "      <td>[Warren Buffett]</td>\n",
       "      <td>[92]</td>\n",
       "      <td>[Berkshire Hathaway]</td>\n",
       "    </tr>\n",
       "    <tr>\n",
       "      <th>5</th>\n",
       "      <td>[Bill Gates]</td>\n",
       "      <td>[67]</td>\n",
       "      <td>[Microsoft]</td>\n",
       "    </tr>\n",
       "    <tr>\n",
       "      <th>6</th>\n",
       "      <td>[Michael Bloomberg]</td>\n",
       "      <td>[81]</td>\n",
       "      <td>[Bloomberg LP]</td>\n",
       "    </tr>\n",
       "    <tr>\n",
       "      <th>7</th>\n",
       "      <td>[Carlos Slim Helu &amp; family]</td>\n",
       "      <td>[83]</td>\n",
       "      <td>[Telecom]</td>\n",
       "    </tr>\n",
       "    <tr>\n",
       "      <th>8</th>\n",
       "      <td>[Mukesh Ambani]</td>\n",
       "      <td>[65]</td>\n",
       "      <td>[Diversified]</td>\n",
       "    </tr>\n",
       "    <tr>\n",
       "      <th>9</th>\n",
       "      <td>[Steve Ballmer]</td>\n",
       "      <td>[67]</td>\n",
       "      <td>[Microsoft]</td>\n",
       "    </tr>\n",
       "  </tbody>\n",
       "</table>\n",
       "</div>"
      ],
      "text/plain": [
       "                          Name   Age                Source\n",
       "0   [Bernard Arnault & family]  [74]                [LVMH]\n",
       "1                  [Elon Musk]  [51]      [Tesla,  SpaceX]\n",
       "2                 [Jeff Bezos]  [59]              [Amazon]\n",
       "3              [Larry Ellison]  [78]              [Oracle]\n",
       "4             [Warren Buffett]  [92]  [Berkshire Hathaway]\n",
       "5                 [Bill Gates]  [67]           [Microsoft]\n",
       "6          [Michael Bloomberg]  [81]        [Bloomberg LP]\n",
       "7  [Carlos Slim Helu & family]  [83]             [Telecom]\n",
       "8              [Mukesh Ambani]  [65]         [Diversified]\n",
       "9              [Steve Ballmer]  [67]           [Microsoft]"
      ]
     },
     "execution_count": 19,
     "metadata": {},
     "output_type": "execute_result"
    }
   ],
   "source": [
    "df=pd.DataFrame({'Name':names,'Age':age,'Source':source})\n",
    "df"
   ]
  },
  {
   "cell_type": "code",
   "execution_count": null,
   "id": "52bbc1ac",
   "metadata": {},
   "outputs": [],
   "source": []
  }
 ],
 "metadata": {
  "kernelspec": {
   "display_name": "Python 3 (ipykernel)",
   "language": "python",
   "name": "python3"
  },
  "language_info": {
   "codemirror_mode": {
    "name": "ipython",
    "version": 3
   },
   "file_extension": ".py",
   "mimetype": "text/x-python",
   "name": "python",
   "nbconvert_exporter": "python",
   "pygments_lexer": "ipython3",
   "version": "3.9.12"
  }
 },
 "nbformat": 4,
 "nbformat_minor": 5
}
