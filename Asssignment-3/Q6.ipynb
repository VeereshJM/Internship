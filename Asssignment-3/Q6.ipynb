{
 "cells": [
  {
   "cell_type": "code",
   "execution_count": 1,
   "id": "7395d35a",
   "metadata": {},
   "outputs": [],
   "source": [
    "from bs4 import BeautifulSoup\n",
    "import requests\n",
    "import selenium\n",
    "from selenium import webdriver\n",
    "from selenium.webdriver.common.by import By\n",
    "from selenium.common.exceptions import NoSuchElementException,StaleElementReferenceException\n",
    "import time\n",
    "import pandas as pd\n",
    "import warnings\n",
    "warnings.filterwarnings('ignore')"
   ]
  },
  {
   "cell_type": "code",
   "execution_count": 2,
   "id": "fc6a1f88",
   "metadata": {},
   "outputs": [],
   "source": [
    "driver=webdriver.Chrome(r'C:\\Users\\User\\Desktop\\veeresh\\Internship(test)/chromedriver.exe')"
   ]
  },
  {
   "cell_type": "code",
   "execution_count": 3,
   "id": "5f6da6ac",
   "metadata": {},
   "outputs": [],
   "source": [
    "driver.get('https://www.digit.in/')"
   ]
  },
  {
   "cell_type": "code",
   "execution_count": 9,
   "id": "9cfbe6df",
   "metadata": {},
   "outputs": [],
   "source": [
    "laptop=driver.find_element(By.XPATH,'/html/body/div[7]/div/div[2]/div[2]/div[4]/ul/li[9]/a')\n",
    "laptop.click()"
   ]
  },
  {
   "cell_type": "code",
   "execution_count": 10,
   "id": "cc9f6d51",
   "metadata": {},
   "outputs": [],
   "source": [
    "laptop_url=[]\n",
    "url=driver.find_elements(By.XPATH,'//div[@class=\"left_side\"]/a')\n",
    "for i in url:\n",
    "    laptop_url.append(i.get_attribute('href'))"
   ]
  },
  {
   "cell_type": "code",
   "execution_count": 11,
   "id": "b54e494c",
   "metadata": {},
   "outputs": [
    {
     "data": {
      "text/plain": [
       "10"
      ]
     },
     "execution_count": 11,
     "metadata": {},
     "output_type": "execute_result"
    }
   ],
   "source": [
    "len(laptop_url)"
   ]
  },
  {
   "cell_type": "code",
   "execution_count": 12,
   "id": "14eda2b2",
   "metadata": {},
   "outputs": [],
   "source": [
    "name=[]\n",
    "os=[]\n",
    "display=[]\n",
    "processor=[]\n",
    "memory=[]\n",
    "for i in laptop_url:\n",
    "    driver.get(i)\n",
    "    time.sleep(5)\n",
    "    try:\n",
    "        name_tag=driver.find_element(By.XPATH,'/html/body/div[7]/div[2]/div[2]/h1')\n",
    "        name.append(name_tag.text)\n",
    "        \n",
    "        os_tag=driver.find_element(By.XPATH,'/html/body/div[7]/div[2]/div[3]/div[2]/div[3]/div/ul/li[1]/div/p[2]/strong')\n",
    "        os.append(os_tag.text)\n",
    "        \n",
    "        display_tag=driver.find_element(By.XPATH,'/html/body/div[7]/div[2]/div[3]/div[2]/div[3]/div/ul/li[2]/div/p[2]/strong')\n",
    "        display.append(display_tag.text)\n",
    "        \n",
    "        processor_tag=driver.find_element(By.XPATH,'/html/body/div[7]/div[2]/div[3]/div[2]/div[3]/div/ul/li[3]/div/p[2]/strong')\n",
    "        processor.append(processor_tag.text)\n",
    "        \n",
    "        memory_tag=driver.find_element(By.XPATH,'/html/body/div[7]/div[2]/div[3]/div[2]/div[3]/div/ul/li[4]/div/p[2]/strong')\n",
    "        memory.append(memory_tag.text)\n",
    "        \n",
    "    except NoSuchElementException:\n",
    "        name.append(\"-\")\n",
    "        os.append(\"-\")\n",
    "        display.append(\"-\")\n",
    "        processor.append(\"-\")\n",
    "        memory.append(\"-\")"
   ]
  },
  {
   "cell_type": "code",
   "execution_count": 13,
   "id": "39d0f91e",
   "metadata": {},
   "outputs": [
    {
     "data": {
      "text/plain": [
       "(10, 10, 10, 10, 10)"
      ]
     },
     "execution_count": 13,
     "metadata": {},
     "output_type": "execute_result"
    }
   ],
   "source": [
    "len(name),len(os),len(display),len(processor),len(memory)"
   ]
  },
  {
   "cell_type": "code",
   "execution_count": 14,
   "id": "fdece429",
   "metadata": {},
   "outputs": [
    {
     "data": {
      "text/html": [
       "<div>\n",
       "<style scoped>\n",
       "    .dataframe tbody tr th:only-of-type {\n",
       "        vertical-align: middle;\n",
       "    }\n",
       "\n",
       "    .dataframe tbody tr th {\n",
       "        vertical-align: top;\n",
       "    }\n",
       "\n",
       "    .dataframe thead th {\n",
       "        text-align: right;\n",
       "    }\n",
       "</style>\n",
       "<table border=\"1\" class=\"dataframe\">\n",
       "  <thead>\n",
       "    <tr style=\"text-align: right;\">\n",
       "      <th></th>\n",
       "      <th>Name</th>\n",
       "      <th>os</th>\n",
       "      <th>Display</th>\n",
       "      <th>Processor</th>\n",
       "      <th>Memory</th>\n",
       "    </tr>\n",
       "  </thead>\n",
       "  <tbody>\n",
       "    <tr>\n",
       "      <th>0</th>\n",
       "      <td>MSI Titan GT77 12UHS 12th Gen Core i9-12900HX ...</td>\n",
       "      <td>Windows 11 Home</td>\n",
       "      <td>17.3\" (3840 x 2160)</td>\n",
       "      <td>12th Gen Intel Core i9-12900HX | NA</td>\n",
       "      <td>2 TB SSD/64 GB DDR5</td>\n",
       "    </tr>\n",
       "    <tr>\n",
       "      <th>1</th>\n",
       "      <td>Lenovo Legion 7 82TD009KIN 12th Gen Core i9-12...</td>\n",
       "      <td>Windows 11 Home</td>\n",
       "      <td>16\" (2560 x 1600)</td>\n",
       "      <td>12th Gen Intel Core i9-12900HX | 2.3 GHz</td>\n",
       "      <td>1 TB SSD/32 GB DDR4</td>\n",
       "    </tr>\n",
       "    <tr>\n",
       "      <th>2</th>\n",
       "      <td>Dell New Alienware x17 R2 D569944WIN9 12th Gen...</td>\n",
       "      <td>Windows 11 Home</td>\n",
       "      <td>17.3\" (1920 x 1080)</td>\n",
       "      <td>12th Gen Intel Core i9-12900H | 5 GHz</td>\n",
       "      <td>1 TB SSD/32 GB DDR5</td>\n",
       "    </tr>\n",
       "    <tr>\n",
       "      <th>3</th>\n",
       "      <td>Acer Predator Triton 500 SE PT516-52s 12th Gen...</td>\n",
       "      <td>Windows 11</td>\n",
       "      <td>16\" (2560 x 1600)</td>\n",
       "      <td>12th Gen Intel Core i7-12700H | 3.5 GHz</td>\n",
       "      <td>2 TB SSD/32 GB DDR5</td>\n",
       "    </tr>\n",
       "    <tr>\n",
       "      <th>4</th>\n",
       "      <td>HP OMEN 16-B1371TX 12th Gen core i7-12700H (2022)</td>\n",
       "      <td>Windows 11 Home</td>\n",
       "      <td>16.1\" (2560 x 1440)</td>\n",
       "      <td>12th Gen Intel Core i7-12700H | 4.7 GHz</td>\n",
       "      <td>1 TB SSD/8 GB DDR5</td>\n",
       "    </tr>\n",
       "    <tr>\n",
       "      <th>5</th>\n",
       "      <td>Acer Nitro 5 AN515-45 NH.QBRSI.007 Ryzen 9-590...</td>\n",
       "      <td>Windows 11 Home</td>\n",
       "      <td>15.6\" (2560 x 1440)</td>\n",
       "      <td>AMD Ryzen 9-5900HX | NA</td>\n",
       "      <td>512 GB SSD/16 GB DDR4</td>\n",
       "    </tr>\n",
       "    <tr>\n",
       "      <th>6</th>\n",
       "      <td>MSI Delta 15 Advantage Edition A5EFK-083IN Ryz...</td>\n",
       "      <td>Windows 11 Home</td>\n",
       "      <td>15.6\" (1920 x 1080)</td>\n",
       "      <td>AMD 5th Gen Ryzen 9-5900HX | 3.3 GHz</td>\n",
       "      <td>1 TB SSD/16 GB DDR4</td>\n",
       "    </tr>\n",
       "    <tr>\n",
       "      <th>7</th>\n",
       "      <td>HP Omen 16-C0141AX Ryzen 9 5900HX (2022)</td>\n",
       "      <td>Windows 11 Home</td>\n",
       "      <td>16.1\" (2560 x 1440)</td>\n",
       "      <td>AMD Ryzen™ 9 5900HX | 3.3 GHz</td>\n",
       "      <td>1 TB NVMe/16 GB DDR4</td>\n",
       "    </tr>\n",
       "    <tr>\n",
       "      <th>8</th>\n",
       "      <td>Lenovo Legion 5 Pro 82RF00MGIN 12th Gen Core i...</td>\n",
       "      <td>Windows 11 Home</td>\n",
       "      <td>16\" (2560 x 1600)</td>\n",
       "      <td>12th Gen Intel Core i7-12700H | 2.3 GHz</td>\n",
       "      <td>1 TB SSD/16 GB DDR5</td>\n",
       "    </tr>\n",
       "    <tr>\n",
       "      <th>9</th>\n",
       "      <td>DELL ALIENWARE M15 R5 GAMING Ryzen R7-5800H (2...</td>\n",
       "      <td>Windows 11 Home</td>\n",
       "      <td>15.6\" (1920 x 1080)</td>\n",
       "      <td>AMD Ryzen R7-5800H | 4.40 GHz</td>\n",
       "      <td>512 GB SSD/16 GB DDR4</td>\n",
       "    </tr>\n",
       "  </tbody>\n",
       "</table>\n",
       "</div>"
      ],
      "text/plain": [
       "                                                Name               os  \\\n",
       "0  MSI Titan GT77 12UHS 12th Gen Core i9-12900HX ...  Windows 11 Home   \n",
       "1  Lenovo Legion 7 82TD009KIN 12th Gen Core i9-12...  Windows 11 Home   \n",
       "2  Dell New Alienware x17 R2 D569944WIN9 12th Gen...  Windows 11 Home   \n",
       "3  Acer Predator Triton 500 SE PT516-52s 12th Gen...       Windows 11   \n",
       "4  HP OMEN 16-B1371TX 12th Gen core i7-12700H (2022)  Windows 11 Home   \n",
       "5  Acer Nitro 5 AN515-45 NH.QBRSI.007 Ryzen 9-590...  Windows 11 Home   \n",
       "6  MSI Delta 15 Advantage Edition A5EFK-083IN Ryz...  Windows 11 Home   \n",
       "7           HP Omen 16-C0141AX Ryzen 9 5900HX (2022)  Windows 11 Home   \n",
       "8  Lenovo Legion 5 Pro 82RF00MGIN 12th Gen Core i...  Windows 11 Home   \n",
       "9  DELL ALIENWARE M15 R5 GAMING Ryzen R7-5800H (2...  Windows 11 Home   \n",
       "\n",
       "               Display                                 Processor  \\\n",
       "0  17.3\" (3840 x 2160)       12th Gen Intel Core i9-12900HX | NA   \n",
       "1    16\" (2560 x 1600)  12th Gen Intel Core i9-12900HX | 2.3 GHz   \n",
       "2  17.3\" (1920 x 1080)     12th Gen Intel Core i9-12900H | 5 GHz   \n",
       "3    16\" (2560 x 1600)   12th Gen Intel Core i7-12700H | 3.5 GHz   \n",
       "4  16.1\" (2560 x 1440)   12th Gen Intel Core i7-12700H | 4.7 GHz   \n",
       "5  15.6\" (2560 x 1440)                   AMD Ryzen 9-5900HX | NA   \n",
       "6  15.6\" (1920 x 1080)      AMD 5th Gen Ryzen 9-5900HX | 3.3 GHz   \n",
       "7  16.1\" (2560 x 1440)             AMD Ryzen™ 9 5900HX | 3.3 GHz   \n",
       "8    16\" (2560 x 1600)   12th Gen Intel Core i7-12700H | 2.3 GHz   \n",
       "9  15.6\" (1920 x 1080)             AMD Ryzen R7-5800H | 4.40 GHz   \n",
       "\n",
       "                  Memory  \n",
       "0    2 TB SSD/64 GB DDR5  \n",
       "1    1 TB SSD/32 GB DDR4  \n",
       "2    1 TB SSD/32 GB DDR5  \n",
       "3    2 TB SSD/32 GB DDR5  \n",
       "4     1 TB SSD/8 GB DDR5  \n",
       "5  512 GB SSD/16 GB DDR4  \n",
       "6    1 TB SSD/16 GB DDR4  \n",
       "7   1 TB NVMe/16 GB DDR4  \n",
       "8    1 TB SSD/16 GB DDR5  \n",
       "9  512 GB SSD/16 GB DDR4  "
      ]
     },
     "execution_count": 14,
     "metadata": {},
     "output_type": "execute_result"
    }
   ],
   "source": [
    "df=pd.DataFrame({\"Name\":name,\"os\":os,'Display':display,'Processor':processor,'Memory':memory})\n",
    "df"
   ]
  },
  {
   "cell_type": "code",
   "execution_count": null,
   "id": "fc8188d8",
   "metadata": {},
   "outputs": [],
   "source": []
  },
  {
   "cell_type": "code",
   "execution_count": null,
   "id": "f0401369",
   "metadata": {},
   "outputs": [],
   "source": []
  }
 ],
 "metadata": {
  "kernelspec": {
   "display_name": "Python 3 (ipykernel)",
   "language": "python",
   "name": "python3"
  },
  "language_info": {
   "codemirror_mode": {
    "name": "ipython",
    "version": 3
   },
   "file_extension": ".py",
   "mimetype": "text/x-python",
   "name": "python",
   "nbconvert_exporter": "python",
   "pygments_lexer": "ipython3",
   "version": "3.9.12"
  }
 },
 "nbformat": 4,
 "nbformat_minor": 5
}
