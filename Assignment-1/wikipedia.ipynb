{
 "cells": [
  {
   "cell_type": "code",
   "execution_count": 1,
   "id": "f3f1d3f3",
   "metadata": {},
   "outputs": [],
   "source": [
    "import pandas as pd\n",
    "import requests\n",
    "from bs4 import BeautifulSoup"
   ]
  },
  {
   "cell_type": "code",
   "execution_count": 2,
   "id": "6fff385a",
   "metadata": {},
   "outputs": [
    {
     "data": {
      "text/plain": [
       "<Response [200]>"
      ]
     },
     "execution_count": 2,
     "metadata": {},
     "output_type": "execute_result"
    }
   ],
   "source": [
    "page=requests.get(\"https://en.wikipedia.org/wiki/Main_Page\")\n",
    "page"
   ]
  },
  {
   "cell_type": "code",
   "execution_count": 3,
   "id": "56b0e1fb",
   "metadata": {},
   "outputs": [],
   "source": [
    "soup=BeautifulSoup(page.content)"
   ]
  },
  {
   "cell_type": "code",
   "execution_count": 4,
   "id": "3821b47e",
   "metadata": {},
   "outputs": [],
   "source": [
    "headlines=[]"
   ]
  },
  {
   "cell_type": "code",
   "execution_count": 6,
   "id": "11c92fbf",
   "metadata": {},
   "outputs": [
    {
     "data": {
      "text/plain": [
       "[\"  Subduction of the Juan de Fuca Plate under the North American Plate, causing volcanism in the Boring Lava Field  The Boring Lava Field is a Plio-Pleistocene volcanic field with cinder cones, small shield volcanoes, and lava flows in the northern Willamette Valley of the U.S. state of Oregon and adjacent southwest Washington state. The zone became active about 2.7\\xa0million years ago, with long periods of eruptive activity interspersed with quiescence. Its last eruptions took place about 57,000 years ago; individual volcanic vents are considered extinct, but the field itself is not. The volcanic field covers an area of about 1,500 square miles (3,900\\xa0km2) and has a total volume of 2.4 cubic miles (10\\xa0km3). The highest elevation of the field is at Larch Mountain, which reaches a height of 4,055 feet (1,236\\xa0m). The Portland metropolitan area, including suburbs, is one of the few places in the continental United States to have extinct volcanoes within a city's limits. The probability of future eruptions affecting the Portland metropolitan area is very low. (Full\\xa0article...)   Recently featured:  Delaware Tercentenary half dollar 23\\xa0Wall Street Proteus (video game)   Archive By email More featured articles About \",\n",
       " '    New York City\\xa0I (1941), upside down   ... that after one of Piet Mondrian\\'s paintings (shown) was discovered to have been hanging upside down for decades, the museum left it as is? ... that Charles III abdicated to become a monk, leaving his land divided between his younger brothers? ... that an artist tried to fly on a Hummingbird? ... that the Loophonium, a cross between a euphonium and a toilet, was played alongside the Royal Liverpool Philharmonic on April Fools\\' Day? ... that Edith of Wilton was criticized for not working after her death? ... that Twelves, a pet monkey, died and became a diamond? ... that \"\\'average person eats 3 spiders a year\\' factoid actualy just statistical error\"? ... that a rabbit played for the Philadelphia Eagles\\xa0– as there\\'s a drive into deep left field by Castellanos, that will be a home run. And so that will make it a 4–0 ballgame?  Archive Start a new article Nominate an article  ',\n",
       " \"  Tornado damage in Rolling Fork, Mississippi  In Mexico, at least 38 people are killed in a fire at a migrant detention facility in Ciudad Juárez, Chihuahua. A tornado outbreak (damage pictured) in Mississippi and Alabama, United States, leaves at least 24 people dead. Robert Metcalfe wins the Turing Award for the invention of Ethernet. The World Baseball Classic concludes with Japan defeating the United States for the championship. An earthquake in Afghanistan and Pakistan kills at least 21 people and injures more than 380 others.  Ongoing:  French pension reform strikes Israeli judicial reform protests Russian invasion of Ukraine Recent deaths:  Nick Galifianakis Nick Lloyd Webber Paul O'Grady Frank LeMaster Lucy Salani Willis Reed  Nominate an article \",\n",
       " \" April 1: April Fools' Day; Iranian Islamic Republic Day (1979)    Philip Sheridan  1833 – Mexican Texans met at San Felipe de Austin to begin the Convention of 1833. 1865 – American Civil War: The Union Army under Major General Philip Sheridan (pictured) inflicted more than 2,900 casualties on the Confederates at the Battle of Five Forks. 1879 – The Inland Customs Line, established by the British for the collection of the salt tax in India, was abandoned. 1922 – Under the South Seas Mandate, Japan set up a government in Koror, precipitating large-scale Japanese settlement in Palau. 1990 – The longest prison riot in British penal history began at Strangeways Prison in Manchester, lasting for 25 days. Giuditta Pasta  (d.\\xa01865)Marvin Gaye  (d.\\xa01984)Jofra Archer  (b.\\xa01995)  More anniversaries:  March 31 April 1 April 2   Archive By email List of days of the year \"]"
      ]
     },
     "execution_count": 6,
     "metadata": {},
     "output_type": "execute_result"
    }
   ],
   "source": [
    "for i in soup.find_all('div',class_='mp-contains-float'):\n",
    "    headlines.append(i.text.replace(\"\\n\",\" \"))\n",
    "headlines"
   ]
  },
  {
   "cell_type": "code",
   "execution_count": 7,
   "id": "0560add8",
   "metadata": {},
   "outputs": [
    {
     "data": {
      "text/plain": [
       "4"
      ]
     },
     "execution_count": 7,
     "metadata": {},
     "output_type": "execute_result"
    }
   ],
   "source": [
    "len(headlines)"
   ]
  },
  {
   "cell_type": "code",
   "execution_count": 8,
   "id": "28ceebea",
   "metadata": {},
   "outputs": [
    {
     "data": {
      "text/html": [
       "<div>\n",
       "<style scoped>\n",
       "    .dataframe tbody tr th:only-of-type {\n",
       "        vertical-align: middle;\n",
       "    }\n",
       "\n",
       "    .dataframe tbody tr th {\n",
       "        vertical-align: top;\n",
       "    }\n",
       "\n",
       "    .dataframe thead th {\n",
       "        text-align: right;\n",
       "    }\n",
       "</style>\n",
       "<table border=\"1\" class=\"dataframe\">\n",
       "  <thead>\n",
       "    <tr style=\"text-align: right;\">\n",
       "      <th></th>\n",
       "      <th>Headlines</th>\n",
       "    </tr>\n",
       "  </thead>\n",
       "  <tbody>\n",
       "    <tr>\n",
       "      <th>0</th>\n",
       "      <td>Subduction of the Juan de Fuca Plate under t...</td>\n",
       "    </tr>\n",
       "    <tr>\n",
       "      <th>1</th>\n",
       "      <td>New York City I (1941), upside down   ... ...</td>\n",
       "    </tr>\n",
       "    <tr>\n",
       "      <th>2</th>\n",
       "      <td>Tornado damage in Rolling Fork, Mississippi ...</td>\n",
       "    </tr>\n",
       "    <tr>\n",
       "      <th>3</th>\n",
       "      <td>April 1: April Fools' Day; Iranian Islamic Re...</td>\n",
       "    </tr>\n",
       "  </tbody>\n",
       "</table>\n",
       "</div>"
      ],
      "text/plain": [
       "                                           Headlines\n",
       "0    Subduction of the Juan de Fuca Plate under t...\n",
       "1      New York City I (1941), upside down   ... ...\n",
       "2    Tornado damage in Rolling Fork, Mississippi ...\n",
       "3   April 1: April Fools' Day; Iranian Islamic Re..."
      ]
     },
     "execution_count": 8,
     "metadata": {},
     "output_type": "execute_result"
    }
   ],
   "source": [
    "df=pd.DataFrame({'Headlines':headlines})\n",
    "df"
   ]
  },
  {
   "cell_type": "code",
   "execution_count": null,
   "id": "9755c70c",
   "metadata": {},
   "outputs": [],
   "source": []
  }
 ],
 "metadata": {
  "kernelspec": {
   "display_name": "Python 3 (ipykernel)",
   "language": "python",
   "name": "python3"
  },
  "language_info": {
   "codemirror_mode": {
    "name": "ipython",
    "version": 3
   },
   "file_extension": ".py",
   "mimetype": "text/x-python",
   "name": "python",
   "nbconvert_exporter": "python",
   "pygments_lexer": "ipython3",
   "version": "3.9.12"
  }
 },
 "nbformat": 4,
 "nbformat_minor": 5
}
