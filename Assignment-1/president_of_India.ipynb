{
 "cells": [
  {
   "cell_type": "code",
   "execution_count": 1,
   "id": "b4a6dc28",
   "metadata": {},
   "outputs": [],
   "source": [
    "import pandas as pd\n",
    "import requests\n",
    "from bs4 import BeautifulSoup"
   ]
  },
  {
   "cell_type": "code",
   "execution_count": 2,
   "id": "6a25f984",
   "metadata": {},
   "outputs": [
    {
     "data": {
      "text/plain": [
       "<Response [200]>"
      ]
     },
     "execution_count": 2,
     "metadata": {},
     "output_type": "execute_result"
    }
   ],
   "source": [
    "page=requests.get(\"https://presidentofindia.nic.in/former-presidents.htm\")\n",
    "page"
   ]
  },
  {
   "cell_type": "code",
   "execution_count": 3,
   "id": "2ed389ca",
   "metadata": {},
   "outputs": [],
   "source": [
    "soup=BeautifulSoup(page.content)"
   ]
  },
  {
   "cell_type": "code",
   "execution_count": 4,
   "id": "06065baf",
   "metadata": {},
   "outputs": [],
   "source": [
    "name=[]\n",
    "term_of_office=[]"
   ]
  },
  {
   "cell_type": "code",
   "execution_count": 5,
   "id": "7043f67b",
   "metadata": {},
   "outputs": [
    {
     "data": {
      "text/plain": [
       "[<div class=\"presidentListing\">\n",
       " <h3>Shri Ram Nath Kovind (birth - 1945)</h3>\n",
       " <p><span class=\"terms\">Term of Office:</span> 25 July, 2017 to 25 July, 2022 </p>\n",
       " <p><a href=\"https://ramnathkovind.nic.in\" target=\"_blank\">https://ramnathkovind.nic.in</a></p>\n",
       " </div>,\n",
       " <div class=\"presidentListing\">\n",
       " <h3>Shri Pranab Mukherjee (1935-2020)</h3>\n",
       " <p><span class=\"terms\">Term of Office:</span> 25 July, 2012 to 25 July, 2017 </p>\n",
       " <p><a href=\"http://pranabmukherjee.nic.in\" target=\"_blank\">http://pranabmukherjee.nic.in</a></p>\n",
       " </div>,\n",
       " <div class=\"presidentListing\">\n",
       " <h3>Smt Pratibha Devisingh Patil (birth - 1934)</h3>\n",
       " <p><span class=\"terms\">Term of Office:</span> 25 July, 2007 to 25 July, 2012 </p>\n",
       " <p><a href=\"http://pratibhapatil.nic.in\" target=\"_blank\">http://pratibhapatil.nic.in</a></p>\n",
       " </div>,\n",
       " <div class=\"presidentListing\">\n",
       " <h3>DR. A.P.J. Abdul Kalam (1931-2015)</h3>\n",
       " <p><span class=\"terms\">Term of Office:</span> 25 July, 2002 to 25 July, 2007 </p>\n",
       " <p><a href=\"http://abdulkalam.nic.in\" target=\"_blank\">http://abdulkalam.nic.in</a></p>\n",
       " </div>,\n",
       " <div class=\"presidentListing\">\n",
       " <h3>Shri K. R. Narayanan (1920 - 2005)</h3>\n",
       " <p><span class=\"terms\">Term of Office:</span> 25 July, 1997 to 25 July, 2002 </p>\n",
       " </div>,\n",
       " <div class=\"presidentListing\">\n",
       " <h3>Dr Shankar Dayal Sharma (1918-1999)</h3>\n",
       " <p><span class=\"terms\">Term of Office:</span> 25 July, 1992 to 25 July, 1997 </p>\n",
       " </div>,\n",
       " <div class=\"presidentListing\">\n",
       " <h3>Shri R Venkataraman (1910-2009)</h3>\n",
       " <p><span class=\"terms\">Term of Office:</span> 25 July, 1987 to 25 July, 1992 </p>\n",
       " </div>,\n",
       " <div class=\"presidentListing\">\n",
       " <h3>Giani Zail Singh (1916-1994)</h3>\n",
       " <p><span class=\"terms\">Term of Office:</span> 25 July, 1982 to 25 July, 1987 </p>\n",
       " </div>,\n",
       " <div class=\"presidentListing\">\n",
       " <h3>Shri Neelam Sanjiva Reddy (1913-1996)</h3>\n",
       " <p><span class=\"terms\">Term of Office:</span> 25 July, 1977 to 25 July, 1982 </p>\n",
       " </div>,\n",
       " <div class=\"presidentListing\">\n",
       " <h3>Dr. Fakhruddin Ali Ahmed (1905-1977)</h3>\n",
       " <p><span class=\"terms\">Term of Office:</span> 24 August, 1974 to 11 February, 1977</p>\n",
       " </div>,\n",
       " <div class=\"presidentListing\">\n",
       " <h3>Shri Varahagiri Venkata Giri (1894-1980)</h3>\n",
       " <p><span class=\"terms\">Term of Office:</span> 3 May, 1969 to 20 July, 1969 and 24 August, 1969 to 24 August, 1974</p>\n",
       " </div>,\n",
       " <div class=\"presidentListing\">\n",
       " <h3>Dr. Zakir Husain (1897-1969)</h3>\n",
       " <p><span class=\"terms\">Term of Office:</span> 13 May, 1967 to 3 May, 1969</p>\n",
       " </div>,\n",
       " <div class=\"presidentListing\">\n",
       " <h3>Dr. Sarvepalli Radhakrishnan (1888-1975)</h3>\n",
       " <p><span class=\"terms\">Term of Office:</span> 13 May, 1962 to 13 May, 1967</p>\n",
       " </div>,\n",
       " <div class=\"presidentListing\">\n",
       " <h3>Dr. Rajendra Prasad (1884-1963) </h3>\n",
       " <p><span class=\"terms\">Term of Office:</span> 26 January, 1950 to 13 May, 1962</p>\n",
       " </div>]"
      ]
     },
     "execution_count": 5,
     "metadata": {},
     "output_type": "execute_result"
    }
   ],
   "source": [
    "president=soup.find_all('div',class_=\"presidentListing\")\n",
    "president"
   ]
  },
  {
   "cell_type": "code",
   "execution_count": 6,
   "id": "b93a10b1",
   "metadata": {},
   "outputs": [],
   "source": [
    "for office in president:\n",
    "    name.append(office.h3.text)\n",
    "    term_of_office.append(office.p.text.replace(\"Term of Office:\",\"\"))"
   ]
  },
  {
   "cell_type": "code",
   "execution_count": 7,
   "id": "98588193",
   "metadata": {},
   "outputs": [
    {
     "data": {
      "text/plain": [
       "['Shri Ram Nath Kovind (birth - 1945)',\n",
       " 'Shri Pranab Mukherjee (1935-2020)',\n",
       " 'Smt Pratibha Devisingh Patil (birth - 1934)',\n",
       " 'DR. A.P.J. Abdul Kalam (1931-2015)',\n",
       " 'Shri K. R. Narayanan (1920 - 2005)',\n",
       " 'Dr Shankar Dayal Sharma (1918-1999)',\n",
       " 'Shri R Venkataraman (1910-2009)',\n",
       " 'Giani Zail Singh (1916-1994)',\n",
       " 'Shri Neelam Sanjiva Reddy (1913-1996)',\n",
       " 'Dr. Fakhruddin Ali Ahmed (1905-1977)',\n",
       " 'Shri Varahagiri Venkata Giri (1894-1980)',\n",
       " 'Dr. Zakir Husain (1897-1969)',\n",
       " 'Dr. Sarvepalli Radhakrishnan (1888-1975)',\n",
       " 'Dr. Rajendra Prasad (1884-1963) ']"
      ]
     },
     "execution_count": 7,
     "metadata": {},
     "output_type": "execute_result"
    }
   ],
   "source": [
    "name"
   ]
  },
  {
   "cell_type": "code",
   "execution_count": 8,
   "id": "901ad6a0",
   "metadata": {},
   "outputs": [
    {
     "data": {
      "text/plain": [
       "[' 25 July, 2017 to 25 July, 2022 ',\n",
       " ' 25 July, 2012 to 25 July, 2017 ',\n",
       " ' 25 July, 2007 to 25 July, 2012 ',\n",
       " ' 25 July, 2002 to 25 July, 2007 ',\n",
       " ' 25 July, 1997 to 25 July, 2002 ',\n",
       " ' 25 July, 1992 to 25 July, 1997 ',\n",
       " ' 25 July, 1987 to 25 July, 1992 ',\n",
       " ' 25 July, 1982 to 25 July, 1987 ',\n",
       " ' 25 July, 1977 to 25 July, 1982 ',\n",
       " ' 24 August, 1974 to 11 February, 1977',\n",
       " ' 3 May, 1969 to 20 July, 1969 and 24 August, 1969 to 24 August, 1974',\n",
       " ' 13 May, 1967 to 3 May, 1969',\n",
       " ' 13 May, 1962 to 13 May, 1967',\n",
       " ' 26 January, 1950 to 13 May, 1962']"
      ]
     },
     "execution_count": 8,
     "metadata": {},
     "output_type": "execute_result"
    }
   ],
   "source": [
    "term_of_office"
   ]
  },
  {
   "cell_type": "code",
   "execution_count": 9,
   "id": "5a775e38",
   "metadata": {},
   "outputs": [
    {
     "data": {
      "text/html": [
       "<div>\n",
       "<style scoped>\n",
       "    .dataframe tbody tr th:only-of-type {\n",
       "        vertical-align: middle;\n",
       "    }\n",
       "\n",
       "    .dataframe tbody tr th {\n",
       "        vertical-align: top;\n",
       "    }\n",
       "\n",
       "    .dataframe thead th {\n",
       "        text-align: right;\n",
       "    }\n",
       "</style>\n",
       "<table border=\"1\" class=\"dataframe\">\n",
       "  <thead>\n",
       "    <tr style=\"text-align: right;\">\n",
       "      <th></th>\n",
       "      <th>president's name</th>\n",
       "      <th>Term of office</th>\n",
       "    </tr>\n",
       "  </thead>\n",
       "  <tbody>\n",
       "    <tr>\n",
       "      <th>0</th>\n",
       "      <td>Shri Ram Nath Kovind (birth - 1945)</td>\n",
       "      <td>25 July, 2017 to 25 July, 2022</td>\n",
       "    </tr>\n",
       "    <tr>\n",
       "      <th>1</th>\n",
       "      <td>Shri Pranab Mukherjee (1935-2020)</td>\n",
       "      <td>25 July, 2012 to 25 July, 2017</td>\n",
       "    </tr>\n",
       "    <tr>\n",
       "      <th>2</th>\n",
       "      <td>Smt Pratibha Devisingh Patil (birth - 1934)</td>\n",
       "      <td>25 July, 2007 to 25 July, 2012</td>\n",
       "    </tr>\n",
       "    <tr>\n",
       "      <th>3</th>\n",
       "      <td>DR. A.P.J. Abdul Kalam (1931-2015)</td>\n",
       "      <td>25 July, 2002 to 25 July, 2007</td>\n",
       "    </tr>\n",
       "    <tr>\n",
       "      <th>4</th>\n",
       "      <td>Shri K. R. Narayanan (1920 - 2005)</td>\n",
       "      <td>25 July, 1997 to 25 July, 2002</td>\n",
       "    </tr>\n",
       "    <tr>\n",
       "      <th>5</th>\n",
       "      <td>Dr Shankar Dayal Sharma (1918-1999)</td>\n",
       "      <td>25 July, 1992 to 25 July, 1997</td>\n",
       "    </tr>\n",
       "    <tr>\n",
       "      <th>6</th>\n",
       "      <td>Shri R Venkataraman (1910-2009)</td>\n",
       "      <td>25 July, 1987 to 25 July, 1992</td>\n",
       "    </tr>\n",
       "    <tr>\n",
       "      <th>7</th>\n",
       "      <td>Giani Zail Singh (1916-1994)</td>\n",
       "      <td>25 July, 1982 to 25 July, 1987</td>\n",
       "    </tr>\n",
       "    <tr>\n",
       "      <th>8</th>\n",
       "      <td>Shri Neelam Sanjiva Reddy (1913-1996)</td>\n",
       "      <td>25 July, 1977 to 25 July, 1982</td>\n",
       "    </tr>\n",
       "    <tr>\n",
       "      <th>9</th>\n",
       "      <td>Dr. Fakhruddin Ali Ahmed (1905-1977)</td>\n",
       "      <td>24 August, 1974 to 11 February, 1977</td>\n",
       "    </tr>\n",
       "    <tr>\n",
       "      <th>10</th>\n",
       "      <td>Shri Varahagiri Venkata Giri (1894-1980)</td>\n",
       "      <td>3 May, 1969 to 20 July, 1969 and 24 August, 1...</td>\n",
       "    </tr>\n",
       "    <tr>\n",
       "      <th>11</th>\n",
       "      <td>Dr. Zakir Husain (1897-1969)</td>\n",
       "      <td>13 May, 1967 to 3 May, 1969</td>\n",
       "    </tr>\n",
       "    <tr>\n",
       "      <th>12</th>\n",
       "      <td>Dr. Sarvepalli Radhakrishnan (1888-1975)</td>\n",
       "      <td>13 May, 1962 to 13 May, 1967</td>\n",
       "    </tr>\n",
       "    <tr>\n",
       "      <th>13</th>\n",
       "      <td>Dr. Rajendra Prasad (1884-1963)</td>\n",
       "      <td>26 January, 1950 to 13 May, 1962</td>\n",
       "    </tr>\n",
       "  </tbody>\n",
       "</table>\n",
       "</div>"
      ],
      "text/plain": [
       "                               president's name  \\\n",
       "0           Shri Ram Nath Kovind (birth - 1945)   \n",
       "1             Shri Pranab Mukherjee (1935-2020)   \n",
       "2   Smt Pratibha Devisingh Patil (birth - 1934)   \n",
       "3            DR. A.P.J. Abdul Kalam (1931-2015)   \n",
       "4            Shri K. R. Narayanan (1920 - 2005)   \n",
       "5           Dr Shankar Dayal Sharma (1918-1999)   \n",
       "6               Shri R Venkataraman (1910-2009)   \n",
       "7                  Giani Zail Singh (1916-1994)   \n",
       "8         Shri Neelam Sanjiva Reddy (1913-1996)   \n",
       "9          Dr. Fakhruddin Ali Ahmed (1905-1977)   \n",
       "10     Shri Varahagiri Venkata Giri (1894-1980)   \n",
       "11                 Dr. Zakir Husain (1897-1969)   \n",
       "12     Dr. Sarvepalli Radhakrishnan (1888-1975)   \n",
       "13             Dr. Rajendra Prasad (1884-1963)    \n",
       "\n",
       "                                       Term of office  \n",
       "0                     25 July, 2017 to 25 July, 2022   \n",
       "1                     25 July, 2012 to 25 July, 2017   \n",
       "2                     25 July, 2007 to 25 July, 2012   \n",
       "3                     25 July, 2002 to 25 July, 2007   \n",
       "4                     25 July, 1997 to 25 July, 2002   \n",
       "5                     25 July, 1992 to 25 July, 1997   \n",
       "6                     25 July, 1987 to 25 July, 1992   \n",
       "7                     25 July, 1982 to 25 July, 1987   \n",
       "8                     25 July, 1977 to 25 July, 1982   \n",
       "9                24 August, 1974 to 11 February, 1977  \n",
       "10   3 May, 1969 to 20 July, 1969 and 24 August, 1...  \n",
       "11                        13 May, 1967 to 3 May, 1969  \n",
       "12                       13 May, 1962 to 13 May, 1967  \n",
       "13                   26 January, 1950 to 13 May, 1962  "
      ]
     },
     "execution_count": 9,
     "metadata": {},
     "output_type": "execute_result"
    }
   ],
   "source": [
    "df=pd.DataFrame({\"president's name\":name,\"Term of office\":term_of_office})\n",
    "df"
   ]
  },
  {
   "cell_type": "code",
   "execution_count": null,
   "id": "9a023cfb",
   "metadata": {},
   "outputs": [],
   "source": []
  }
 ],
 "metadata": {
  "kernelspec": {
   "display_name": "Python 3 (ipykernel)",
   "language": "python",
   "name": "python3"
  },
  "language_info": {
   "codemirror_mode": {
    "name": "ipython",
    "version": 3
   },
   "file_extension": ".py",
   "mimetype": "text/x-python",
   "name": "python",
   "nbconvert_exporter": "python",
   "pygments_lexer": "ipython3",
   "version": "3.9.12"
  }
 },
 "nbformat": 4,
 "nbformat_minor": 5
}
