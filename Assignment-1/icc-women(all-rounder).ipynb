{
 "cells": [
  {
   "cell_type": "code",
   "execution_count": 1,
   "id": "6d5a7d92",
   "metadata": {},
   "outputs": [],
   "source": [
    "import pandas as pd\n",
    "import requests\n",
    "from bs4 import BeautifulSoup"
   ]
  },
  {
   "cell_type": "code",
   "execution_count": 2,
   "id": "172b2f37",
   "metadata": {},
   "outputs": [
    {
     "data": {
      "text/plain": [
       "<Response [200]>"
      ]
     },
     "execution_count": 2,
     "metadata": {},
     "output_type": "execute_result"
    }
   ],
   "source": [
    "page=requests.get(\"https://www.icc-cricket.com/rankings/womens/player-rankings/odi/all-rounder\")\n",
    "page"
   ]
  },
  {
   "cell_type": "code",
   "execution_count": 3,
   "id": "a6a9675c",
   "metadata": {},
   "outputs": [],
   "source": [
    "soup=BeautifulSoup(page.content)"
   ]
  },
  {
   "cell_type": "code",
   "execution_count": 4,
   "id": "d3044012",
   "metadata": {},
   "outputs": [],
   "source": [
    "name=[]\n",
    "nationality=[]\n",
    "rating=[]"
   ]
  },
  {
   "cell_type": "code",
   "execution_count": 5,
   "id": "a594cbdb",
   "metadata": {},
   "outputs": [
    {
     "data": {
      "text/plain": [
       "['Hayley Matthews']"
      ]
     },
     "execution_count": 5,
     "metadata": {},
     "output_type": "execute_result"
    }
   ],
   "source": [
    "for i in soup.find_all('div',class_='rankings-block__banner--name-large'):\n",
    "    name.append(i.text.replace(\"\\n\",''))\n",
    "name"
   ]
  },
  {
   "cell_type": "code",
   "execution_count": 6,
   "id": "5be49545",
   "metadata": {},
   "outputs": [
    {
     "data": {
      "text/plain": [
       "['Hayley Matthews',\n",
       " 'Natalie Sciver',\n",
       " 'Ellyse Perry',\n",
       " 'Marizanne Kapp',\n",
       " 'Amelia Kerr',\n",
       " 'Deepti Sharma',\n",
       " 'Ashleigh Gardner',\n",
       " 'Jess Jonassen',\n",
       " 'Nida Dar',\n",
       " 'Jhulan Goswami',\n",
       " 'Sophie Ecclestone',\n",
       " 'Sophie Devine',\n",
       " 'Chloe-Lesleigh Tryon',\n",
       " 'Katherine Brunt',\n",
       " 'Rumana Ahmed',\n",
       " 'Stafanie Taylor',\n",
       " 'Chamari Athapaththu',\n",
       " 'Charlotte Dean',\n",
       " 'Sune Luus',\n",
       " 'Salma Khatun']"
      ]
     },
     "execution_count": 6,
     "metadata": {},
     "output_type": "execute_result"
    }
   ],
   "source": [
    "for i in soup.find_all('td',class_='table-body__cell rankings-table__name name'):\n",
    "    name.append(i.text.replace(\"\\n\",''))\n",
    "name"
   ]
  },
  {
   "cell_type": "code",
   "execution_count": 7,
   "id": "662a3589",
   "metadata": {},
   "outputs": [
    {
     "data": {
      "text/plain": [
       "['Hayley Matthews',\n",
       " 'Natalie Sciver',\n",
       " 'Ellyse Perry',\n",
       " 'Marizanne Kapp',\n",
       " 'Amelia Kerr',\n",
       " 'Deepti Sharma',\n",
       " 'Ashleigh Gardner',\n",
       " 'Jess Jonassen',\n",
       " 'Nida Dar',\n",
       " 'Jhulan Goswami']"
      ]
     },
     "execution_count": 7,
     "metadata": {},
     "output_type": "execute_result"
    }
   ],
   "source": [
    "player_name=name[0:10]\n",
    "player_name"
   ]
  },
  {
   "cell_type": "code",
   "execution_count": 8,
   "id": "92980a49",
   "metadata": {},
   "outputs": [
    {
     "data": {
      "text/plain": [
       "['WI                    ']"
      ]
     },
     "execution_count": 8,
     "metadata": {},
     "output_type": "execute_result"
    }
   ],
   "source": [
    "for i in soup.find_all('div',class_='rankings-block__banner--nationality'):\n",
    "    nationality.append(i.text.replace(\"\\n\",\"\"))\n",
    "nationality"
   ]
  },
  {
   "cell_type": "code",
   "execution_count": 9,
   "id": "c8b0b1c3",
   "metadata": {},
   "outputs": [
    {
     "data": {
      "text/plain": [
       "['WI                    ',\n",
       " 'ENG',\n",
       " 'AUS',\n",
       " 'SA',\n",
       " 'NZ',\n",
       " 'IND',\n",
       " 'AUS',\n",
       " 'AUS',\n",
       " 'PAK',\n",
       " 'IND',\n",
       " 'ENG',\n",
       " 'NZ',\n",
       " 'SA',\n",
       " 'ENG',\n",
       " 'BAN',\n",
       " 'WI',\n",
       " 'SL',\n",
       " 'ENG',\n",
       " 'SA',\n",
       " 'BAN']"
      ]
     },
     "execution_count": 9,
     "metadata": {},
     "output_type": "execute_result"
    }
   ],
   "source": [
    "for i in soup.find_all('span',class_='table-body__logo-text'):\n",
    "    nationality.append(i.text.replace(\"\\n\",''))\n",
    "nationality"
   ]
  },
  {
   "cell_type": "code",
   "execution_count": 10,
   "id": "c9bb4d75",
   "metadata": {},
   "outputs": [
    {
     "data": {
      "text/plain": [
       "['WI                    ',\n",
       " 'ENG',\n",
       " 'AUS',\n",
       " 'SA',\n",
       " 'NZ',\n",
       " 'IND',\n",
       " 'AUS',\n",
       " 'AUS',\n",
       " 'PAK',\n",
       " 'IND']"
      ]
     },
     "execution_count": 10,
     "metadata": {},
     "output_type": "execute_result"
    }
   ],
   "source": [
    "player_nationality=nationality[0:10]\n",
    "player_nationality"
   ]
  },
  {
   "cell_type": "code",
   "execution_count": 11,
   "id": "1bfdf329",
   "metadata": {},
   "outputs": [
    {
     "data": {
      "text/plain": [
       "['373']"
      ]
     },
     "execution_count": 11,
     "metadata": {},
     "output_type": "execute_result"
    }
   ],
   "source": [
    "for i in soup.find_all('div',class_='rankings-block__banner--rating'):\n",
    "    rating.append(i.text)\n",
    "rating"
   ]
  },
  {
   "cell_type": "code",
   "execution_count": 12,
   "id": "39b63dec",
   "metadata": {},
   "outputs": [
    {
     "data": {
      "text/plain": [
       "['373',\n",
       " '371',\n",
       " '366',\n",
       " '349',\n",
       " '336',\n",
       " '322',\n",
       " '292',\n",
       " '250',\n",
       " '232',\n",
       " '214',\n",
       " '205',\n",
       " '202',\n",
       " '197',\n",
       " '195',\n",
       " '184',\n",
       " '181',\n",
       " '178',\n",
       " '174',\n",
       " '171',\n",
       " '169']"
      ]
     },
     "execution_count": 12,
     "metadata": {},
     "output_type": "execute_result"
    }
   ],
   "source": [
    "for i in soup.find_all('td',class_='table-body__cell rating'):\n",
    "    rating.append(i.text)\n",
    "rating"
   ]
  },
  {
   "cell_type": "code",
   "execution_count": 13,
   "id": "282610b7",
   "metadata": {},
   "outputs": [
    {
     "data": {
      "text/plain": [
       "['373', '371', '366', '349', '336', '322', '292', '250', '232', '214']"
      ]
     },
     "execution_count": 13,
     "metadata": {},
     "output_type": "execute_result"
    }
   ],
   "source": [
    "player_rating=rating[0:10]\n",
    "player_rating"
   ]
  },
  {
   "cell_type": "code",
   "execution_count": 14,
   "id": "d028e3ff",
   "metadata": {},
   "outputs": [
    {
     "data": {
      "text/html": [
       "<div>\n",
       "<style scoped>\n",
       "    .dataframe tbody tr th:only-of-type {\n",
       "        vertical-align: middle;\n",
       "    }\n",
       "\n",
       "    .dataframe tbody tr th {\n",
       "        vertical-align: top;\n",
       "    }\n",
       "\n",
       "    .dataframe thead th {\n",
       "        text-align: right;\n",
       "    }\n",
       "</style>\n",
       "<table border=\"1\" class=\"dataframe\">\n",
       "  <thead>\n",
       "    <tr style=\"text-align: right;\">\n",
       "      <th></th>\n",
       "      <th>Player name</th>\n",
       "      <th>player nationality</th>\n",
       "      <th>player rating</th>\n",
       "    </tr>\n",
       "  </thead>\n",
       "  <tbody>\n",
       "    <tr>\n",
       "      <th>0</th>\n",
       "      <td>Hayley Matthews</td>\n",
       "      <td>WI</td>\n",
       "      <td>373</td>\n",
       "    </tr>\n",
       "    <tr>\n",
       "      <th>1</th>\n",
       "      <td>Natalie Sciver</td>\n",
       "      <td>ENG</td>\n",
       "      <td>371</td>\n",
       "    </tr>\n",
       "    <tr>\n",
       "      <th>2</th>\n",
       "      <td>Ellyse Perry</td>\n",
       "      <td>AUS</td>\n",
       "      <td>366</td>\n",
       "    </tr>\n",
       "    <tr>\n",
       "      <th>3</th>\n",
       "      <td>Marizanne Kapp</td>\n",
       "      <td>SA</td>\n",
       "      <td>349</td>\n",
       "    </tr>\n",
       "    <tr>\n",
       "      <th>4</th>\n",
       "      <td>Amelia Kerr</td>\n",
       "      <td>NZ</td>\n",
       "      <td>336</td>\n",
       "    </tr>\n",
       "    <tr>\n",
       "      <th>5</th>\n",
       "      <td>Deepti Sharma</td>\n",
       "      <td>IND</td>\n",
       "      <td>322</td>\n",
       "    </tr>\n",
       "    <tr>\n",
       "      <th>6</th>\n",
       "      <td>Ashleigh Gardner</td>\n",
       "      <td>AUS</td>\n",
       "      <td>292</td>\n",
       "    </tr>\n",
       "    <tr>\n",
       "      <th>7</th>\n",
       "      <td>Jess Jonassen</td>\n",
       "      <td>AUS</td>\n",
       "      <td>250</td>\n",
       "    </tr>\n",
       "    <tr>\n",
       "      <th>8</th>\n",
       "      <td>Nida Dar</td>\n",
       "      <td>PAK</td>\n",
       "      <td>232</td>\n",
       "    </tr>\n",
       "    <tr>\n",
       "      <th>9</th>\n",
       "      <td>Jhulan Goswami</td>\n",
       "      <td>IND</td>\n",
       "      <td>214</td>\n",
       "    </tr>\n",
       "  </tbody>\n",
       "</table>\n",
       "</div>"
      ],
      "text/plain": [
       "        Player name      player nationality player rating\n",
       "0   Hayley Matthews  WI                               373\n",
       "1    Natalie Sciver                     ENG           371\n",
       "2      Ellyse Perry                     AUS           366\n",
       "3    Marizanne Kapp                      SA           349\n",
       "4       Amelia Kerr                      NZ           336\n",
       "5     Deepti Sharma                     IND           322\n",
       "6  Ashleigh Gardner                     AUS           292\n",
       "7     Jess Jonassen                     AUS           250\n",
       "8          Nida Dar                     PAK           232\n",
       "9    Jhulan Goswami                     IND           214"
      ]
     },
     "execution_count": 14,
     "metadata": {},
     "output_type": "execute_result"
    }
   ],
   "source": [
    "df=pd.DataFrame({'Player name':player_name,'player nationality':player_nationality,'player rating':player_rating})\n",
    "df"
   ]
  },
  {
   "cell_type": "code",
   "execution_count": null,
   "id": "a07f7005",
   "metadata": {},
   "outputs": [],
   "source": []
  }
 ],
 "metadata": {
  "kernelspec": {
   "display_name": "Python 3 (ipykernel)",
   "language": "python",
   "name": "python3"
  },
  "language_info": {
   "codemirror_mode": {
    "name": "ipython",
    "version": 3
   },
   "file_extension": ".py",
   "mimetype": "text/x-python",
   "name": "python",
   "nbconvert_exporter": "python",
   "pygments_lexer": "ipython3",
   "version": "3.9.12"
  }
 },
 "nbformat": 4,
 "nbformat_minor": 5
}
