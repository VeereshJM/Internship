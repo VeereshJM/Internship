{
 "cells": [
  {
   "cell_type": "code",
   "execution_count": 1,
   "id": "02eda3f0",
   "metadata": {},
   "outputs": [],
   "source": [
    "import pandas as pd\n",
    "import requests\n",
    "from bs4 import BeautifulSoup"
   ]
  },
  {
   "cell_type": "code",
   "execution_count": 2,
   "id": "0381d806",
   "metadata": {},
   "outputs": [
    {
     "data": {
      "text/plain": [
       "<Response [200]>"
      ]
     },
     "execution_count": 2,
     "metadata": {},
     "output_type": "execute_result"
    }
   ],
   "source": [
    "page=requests.get(\"https://www.icc-cricket.com/rankings/mens/player-rankings/odi/batting\")\n",
    "page"
   ]
  },
  {
   "cell_type": "code",
   "execution_count": 3,
   "id": "8ce01581",
   "metadata": {},
   "outputs": [],
   "source": [
    "soup=BeautifulSoup(page.content)"
   ]
  },
  {
   "cell_type": "code",
   "execution_count": 4,
   "id": "7adf71e0",
   "metadata": {},
   "outputs": [],
   "source": [
    "batsmen=[]\n",
    "team=[]\n",
    "rating=[]"
   ]
  },
  {
   "cell_type": "code",
   "execution_count": 5,
   "id": "cee2ba12",
   "metadata": {},
   "outputs": [
    {
     "data": {
      "text/plain": [
       "['Babar Azam']"
      ]
     },
     "execution_count": 5,
     "metadata": {},
     "output_type": "execute_result"
    }
   ],
   "source": [
    "for i in soup.find_all('div',class_='u-flex-center u-text-left'):\n",
    "    batsmen.append(i.text.replace(\"\\n\",\"\"))\n",
    "batsmen"
   ]
  },
  {
   "cell_type": "code",
   "execution_count": 6,
   "id": "6f982ed8",
   "metadata": {},
   "outputs": [
    {
     "data": {
      "text/plain": [
       "['Babar Azam',\n",
       " 'Rassie van der Dussen',\n",
       " 'Imam-ul-Haq',\n",
       " 'Quinton de Kock',\n",
       " 'Shubman Gill',\n",
       " 'David Warner',\n",
       " 'Virat Kohli',\n",
       " 'Rohit Sharma',\n",
       " 'Steve Smith',\n",
       " 'Fakhar Zaman',\n",
       " 'Shai Hope',\n",
       " 'Kane Williamson',\n",
       " 'Jason Roy',\n",
       " 'Jonny Bairstow',\n",
       " 'Jos Buttler',\n",
       " 'Harry Tector',\n",
       " 'Mushfiqur Rahim',\n",
       " 'Paul Stirling',\n",
       " 'David Miller',\n",
       " 'Tamim Iqbal',\n",
       " 'Alex Carey',\n",
       " 'Joe Root',\n",
       " 'Rahmat Shah',\n",
       " 'Shreyas Iyer',\n",
       " 'Nicholas Pooran',\n",
       " 'Shakib Al Hasan',\n",
       " 'Travis Head',\n",
       " 'Glenn Maxwell',\n",
       " 'Heinrich Klaasen',\n",
       " 'Tom Latham',\n",
       " 'Sikandar Raza',\n",
       " 'Temba Bavuma',\n",
       " 'Martin Guptill',\n",
       " 'Litton Das',\n",
       " 'Shikhar Dhawan',\n",
       " 'Gerhard Erasmus',\n",
       " 'Dawid Malan',\n",
       " 'Lokesh Rahul',\n",
       " 'George Munsey',\n",
       " 'Mahmudullah',\n",
       " 'Devon Conway',\n",
       " 'Najibullah Zadran',\n",
       " 'Kariyawasa Asalanka',\n",
       " 'Andrew Balbirnie',\n",
       " 'Kyle Coetzer',\n",
       " 'Ibrahim Zadran',\n",
       " 'Haris Sohail',\n",
       " 'Monank Patel',\n",
       " 'Aaron Jones',\n",
       " 'Kusal Mendis',\n",
       " 'Hashmatullah Shaidi',\n",
       " 'Mitchell Marsh',\n",
       " 'Assad Vala',\n",
       " 'Aiden Markram',\n",
       " 'Sean Williams',\n",
       " 'Ishan Kishan',\n",
       " 'Rahmanullah Gurbaz',\n",
       " 'R.K. Paudel',\n",
       " 'Scott Edwards',\n",
       " 'Janneman Malan',\n",
       " 'Zeeshan Maqsood',\n",
       " 'Jatinder Singh',\n",
       " 'Avishka Fernando',\n",
       " 'Mohammad Rizwan',\n",
       " 'Vriitya Aravind',\n",
       " 'Mohammad Nabi',\n",
       " 'Aasif Sheikh',\n",
       " 'Marnus Labuschagne',\n",
       " 'Tom Cooper',\n",
       " 'Mitchell Santner',\n",
       " 'Henry Nicholls',\n",
       " 'Richard Berrington',\n",
       " 'Dasun Shanaka',\n",
       " 'Hardik Pandya',\n",
       " 'Angelo Mathews',\n",
       " 'Danushka Gunathilaka',\n",
       " 'Michael Leask',\n",
       " \"Max O'Dowd\",\n",
       " 'Steven Taylor',\n",
       " 'Dhananjaya de Silva',\n",
       " 'Finn Allen',\n",
       " 'Marcus Stoinis',\n",
       " 'Craig Ervine',\n",
       " 'Gajanand Singh',\n",
       " 'Michael Bracewell',\n",
       " 'Muhammad Waseem',\n",
       " 'Philip Salt',\n",
       " 'Pathum Nissanka',\n",
       " 'Shamarh Brooks',\n",
       " 'Niroshan Dickwella',\n",
       " 'Moeen Ali',\n",
       " 'Rashid Khan',\n",
       " 'Jimmy Neesham',\n",
       " 'Michael van Lingen',\n",
       " 'Kyle Mayers',\n",
       " 'Tony Ura',\n",
       " 'Matthew Cross',\n",
       " 'Chundangapoyil Rizwan',\n",
       " 'Mehedi Hasan',\n",
       " 'Daryl Mitchell']"
      ]
     },
     "execution_count": 6,
     "metadata": {},
     "output_type": "execute_result"
    }
   ],
   "source": [
    "for i in soup.find_all('td','table-body__cell rankings-table__name name'):\n",
    "    batsmen.append(i.text.replace(\"\\n\",''))\n",
    "batsmen"
   ]
  },
  {
   "cell_type": "code",
   "execution_count": 7,
   "id": "4c0239ad",
   "metadata": {},
   "outputs": [
    {
     "data": {
      "text/plain": [
       "100"
      ]
     },
     "execution_count": 7,
     "metadata": {},
     "output_type": "execute_result"
    }
   ],
   "source": [
    "len(batsmen)"
   ]
  },
  {
   "cell_type": "code",
   "execution_count": 8,
   "id": "e3dde91b",
   "metadata": {},
   "outputs": [
    {
     "data": {
      "text/plain": [
       "['Babar Azam',\n",
       " 'Rassie van der Dussen',\n",
       " 'Imam-ul-Haq',\n",
       " 'Quinton de Kock',\n",
       " 'Shubman Gill',\n",
       " 'David Warner',\n",
       " 'Virat Kohli',\n",
       " 'Rohit Sharma',\n",
       " 'Steve Smith',\n",
       " 'Fakhar Zaman']"
      ]
     },
     "execution_count": 8,
     "metadata": {},
     "output_type": "execute_result"
    }
   ],
   "source": [
    "Batsmen=batsmen[0:10]\n",
    "Batsmen"
   ]
  },
  {
   "cell_type": "code",
   "execution_count": 9,
   "id": "12008d57",
   "metadata": {},
   "outputs": [
    {
     "data": {
      "text/plain": [
       "['PAK                    ']"
      ]
     },
     "execution_count": 9,
     "metadata": {},
     "output_type": "execute_result"
    }
   ],
   "source": [
    "for i in soup.find_all('div',class_='rankings-block__banner--nationality'):\n",
    "    team.append(i.text.replace(\"\\n\",\"\"))\n",
    "team"
   ]
  },
  {
   "cell_type": "code",
   "execution_count": 10,
   "id": "0e6c0e67",
   "metadata": {},
   "outputs": [
    {
     "data": {
      "text/plain": [
       "['PAK                    ',\n",
       " 'SA',\n",
       " 'PAK',\n",
       " 'SA',\n",
       " 'IND',\n",
       " 'AUS',\n",
       " 'IND',\n",
       " 'IND',\n",
       " 'AUS',\n",
       " 'PAK',\n",
       " 'WI',\n",
       " 'NZ',\n",
       " 'ENG',\n",
       " 'ENG',\n",
       " 'ENG',\n",
       " 'IRE',\n",
       " 'BAN',\n",
       " 'IRE',\n",
       " 'SA',\n",
       " 'BAN',\n",
       " 'AUS',\n",
       " 'ENG',\n",
       " 'AFG',\n",
       " 'IND',\n",
       " 'WI',\n",
       " 'BAN',\n",
       " 'AUS',\n",
       " 'AUS',\n",
       " 'SA',\n",
       " 'NZ',\n",
       " 'ZIM',\n",
       " 'SA',\n",
       " 'NZ',\n",
       " 'BAN',\n",
       " 'IND',\n",
       " 'NAM',\n",
       " 'ENG',\n",
       " 'IND',\n",
       " 'SCO',\n",
       " 'BAN',\n",
       " 'NZ',\n",
       " 'AFG',\n",
       " 'SL',\n",
       " 'IRE',\n",
       " 'SCO',\n",
       " 'AFG',\n",
       " 'PAK',\n",
       " 'USA',\n",
       " 'USA',\n",
       " 'SL',\n",
       " 'AFG',\n",
       " 'AUS',\n",
       " 'PNG',\n",
       " 'SA',\n",
       " 'ZIM',\n",
       " 'IND',\n",
       " 'AFG',\n",
       " 'NEP',\n",
       " 'NED',\n",
       " 'SA',\n",
       " 'OMA',\n",
       " 'OMA',\n",
       " 'SL',\n",
       " 'PAK',\n",
       " 'UAE',\n",
       " 'AFG',\n",
       " 'NEP',\n",
       " 'AUS',\n",
       " 'NED',\n",
       " 'NZ',\n",
       " 'NZ',\n",
       " 'SCO',\n",
       " 'SL',\n",
       " 'IND',\n",
       " 'SL',\n",
       " 'SL',\n",
       " 'SCO',\n",
       " 'NED',\n",
       " 'USA',\n",
       " 'SL',\n",
       " 'NZ',\n",
       " 'AUS',\n",
       " 'ZIM',\n",
       " 'USA',\n",
       " 'NZ',\n",
       " 'UAE',\n",
       " 'ENG',\n",
       " 'SL',\n",
       " 'WI',\n",
       " 'SL',\n",
       " 'ENG',\n",
       " 'AFG',\n",
       " 'NZ',\n",
       " 'NAM',\n",
       " 'WI',\n",
       " 'PNG',\n",
       " 'SCO',\n",
       " 'UAE',\n",
       " 'BAN',\n",
       " 'NZ']"
      ]
     },
     "execution_count": 10,
     "metadata": {},
     "output_type": "execute_result"
    }
   ],
   "source": [
    "for i in soup.find_all('span',class_='table-body__logo-text'):\n",
    "    team.append(i.text.replace(\"\\n\",\"\"))\n",
    "team"
   ]
  },
  {
   "cell_type": "code",
   "execution_count": 11,
   "id": "c1383c17",
   "metadata": {},
   "outputs": [
    {
     "data": {
      "text/plain": [
       "['PAK                    ',\n",
       " 'SA',\n",
       " 'PAK',\n",
       " 'SA',\n",
       " 'IND',\n",
       " 'AUS',\n",
       " 'IND',\n",
       " 'IND',\n",
       " 'AUS',\n",
       " 'PAK']"
      ]
     },
     "execution_count": 11,
     "metadata": {},
     "output_type": "execute_result"
    }
   ],
   "source": [
    "nationality=team[0:10]\n",
    "nationality"
   ]
  },
  {
   "cell_type": "code",
   "execution_count": 12,
   "id": "8d2dedee",
   "metadata": {},
   "outputs": [
    {
     "data": {
      "text/plain": [
       "['887']"
      ]
     },
     "execution_count": 12,
     "metadata": {},
     "output_type": "execute_result"
    }
   ],
   "source": [
    "for i in soup.find_all('div',class_='rankings-block__banner--rating'):\n",
    "    rating.append(i.text)\n",
    "rating"
   ]
  },
  {
   "cell_type": "code",
   "execution_count": 13,
   "id": "99f14853",
   "metadata": {},
   "outputs": [
    {
     "data": {
      "text/plain": [
       "['887',\n",
       " '777',\n",
       " '740',\n",
       " '740',\n",
       " '738',\n",
       " '726',\n",
       " '719',\n",
       " '707',\n",
       " '702',\n",
       " '699',\n",
       " '698',\n",
       " '693',\n",
       " '682',\n",
       " '669',\n",
       " '658',\n",
       " '650',\n",
       " '646',\n",
       " '640',\n",
       " '635',\n",
       " '633',\n",
       " '631',\n",
       " '631',\n",
       " '628',\n",
       " '624',\n",
       " '620',\n",
       " '617',\n",
       " '616',\n",
       " '612',\n",
       " '611',\n",
       " '605',\n",
       " '595',\n",
       " '594',\n",
       " '591',\n",
       " '586',\n",
       " '580',\n",
       " '572',\n",
       " '572',\n",
       " '571',\n",
       " '569',\n",
       " '568',\n",
       " '560',\n",
       " '555',\n",
       " '548',\n",
       " '543',\n",
       " '543',\n",
       " '543',\n",
       " '542',\n",
       " '539',\n",
       " '530',\n",
       " '526',\n",
       " '523',\n",
       " '523',\n",
       " '519',\n",
       " '515',\n",
       " '514',\n",
       " '511',\n",
       " '511',\n",
       " '507',\n",
       " '503',\n",
       " '500',\n",
       " '499',\n",
       " '496',\n",
       " '495',\n",
       " '495',\n",
       " '493',\n",
       " '492',\n",
       " '490',\n",
       " '490',\n",
       " '486',\n",
       " '483',\n",
       " '482',\n",
       " '482',\n",
       " '480',\n",
       " '479',\n",
       " '477',\n",
       " '475',\n",
       " '469',\n",
       " '465',\n",
       " '464',\n",
       " '463',\n",
       " '461',\n",
       " '461',\n",
       " '453',\n",
       " '451',\n",
       " '450',\n",
       " '449',\n",
       " '447',\n",
       " '445',\n",
       " '438',\n",
       " '434',\n",
       " '433',\n",
       " '426',\n",
       " '426',\n",
       " '425',\n",
       " '425',\n",
       " '422',\n",
       " '422',\n",
       " '419',\n",
       " '417',\n",
       " '416']"
      ]
     },
     "execution_count": 13,
     "metadata": {},
     "output_type": "execute_result"
    }
   ],
   "source": [
    "for i in soup.find_all('td',class_='table-body__cell rating'):\n",
    "    rating.append(i.text)\n",
    "rating"
   ]
  },
  {
   "cell_type": "code",
   "execution_count": 14,
   "id": "05a77f69",
   "metadata": {},
   "outputs": [
    {
     "data": {
      "text/plain": [
       "['887', '777', '740', '740', '738', '726', '719', '707', '702', '699']"
      ]
     },
     "execution_count": 14,
     "metadata": {},
     "output_type": "execute_result"
    }
   ],
   "source": [
    "rate=rating[0:10]\n",
    "rate"
   ]
  },
  {
   "cell_type": "code",
   "execution_count": 15,
   "id": "d7c2655c",
   "metadata": {},
   "outputs": [
    {
     "data": {
      "text/html": [
       "<div>\n",
       "<style scoped>\n",
       "    .dataframe tbody tr th:only-of-type {\n",
       "        vertical-align: middle;\n",
       "    }\n",
       "\n",
       "    .dataframe tbody tr th {\n",
       "        vertical-align: top;\n",
       "    }\n",
       "\n",
       "    .dataframe thead th {\n",
       "        text-align: right;\n",
       "    }\n",
       "</style>\n",
       "<table border=\"1\" class=\"dataframe\">\n",
       "  <thead>\n",
       "    <tr style=\"text-align: right;\">\n",
       "      <th></th>\n",
       "      <th>Batting players</th>\n",
       "      <th>Natinality of team</th>\n",
       "      <th>Rating</th>\n",
       "    </tr>\n",
       "  </thead>\n",
       "  <tbody>\n",
       "    <tr>\n",
       "      <th>0</th>\n",
       "      <td>Babar Azam</td>\n",
       "      <td>PAK</td>\n",
       "      <td>887</td>\n",
       "    </tr>\n",
       "    <tr>\n",
       "      <th>1</th>\n",
       "      <td>Rassie van der Dussen</td>\n",
       "      <td>SA</td>\n",
       "      <td>777</td>\n",
       "    </tr>\n",
       "    <tr>\n",
       "      <th>2</th>\n",
       "      <td>Imam-ul-Haq</td>\n",
       "      <td>PAK</td>\n",
       "      <td>740</td>\n",
       "    </tr>\n",
       "    <tr>\n",
       "      <th>3</th>\n",
       "      <td>Quinton de Kock</td>\n",
       "      <td>SA</td>\n",
       "      <td>740</td>\n",
       "    </tr>\n",
       "    <tr>\n",
       "      <th>4</th>\n",
       "      <td>Shubman Gill</td>\n",
       "      <td>IND</td>\n",
       "      <td>738</td>\n",
       "    </tr>\n",
       "    <tr>\n",
       "      <th>5</th>\n",
       "      <td>David Warner</td>\n",
       "      <td>AUS</td>\n",
       "      <td>726</td>\n",
       "    </tr>\n",
       "    <tr>\n",
       "      <th>6</th>\n",
       "      <td>Virat Kohli</td>\n",
       "      <td>IND</td>\n",
       "      <td>719</td>\n",
       "    </tr>\n",
       "    <tr>\n",
       "      <th>7</th>\n",
       "      <td>Rohit Sharma</td>\n",
       "      <td>IND</td>\n",
       "      <td>707</td>\n",
       "    </tr>\n",
       "    <tr>\n",
       "      <th>8</th>\n",
       "      <td>Steve Smith</td>\n",
       "      <td>AUS</td>\n",
       "      <td>702</td>\n",
       "    </tr>\n",
       "    <tr>\n",
       "      <th>9</th>\n",
       "      <td>Fakhar Zaman</td>\n",
       "      <td>PAK</td>\n",
       "      <td>699</td>\n",
       "    </tr>\n",
       "  </tbody>\n",
       "</table>\n",
       "</div>"
      ],
      "text/plain": [
       "         Batting players       Natinality of team Rating\n",
       "0             Babar Azam  PAK                        887\n",
       "1  Rassie van der Dussen                       SA    777\n",
       "2            Imam-ul-Haq                      PAK    740\n",
       "3        Quinton de Kock                       SA    740\n",
       "4           Shubman Gill                      IND    738\n",
       "5           David Warner                      AUS    726\n",
       "6            Virat Kohli                      IND    719\n",
       "7           Rohit Sharma                      IND    707\n",
       "8            Steve Smith                      AUS    702\n",
       "9           Fakhar Zaman                      PAK    699"
      ]
     },
     "execution_count": 15,
     "metadata": {},
     "output_type": "execute_result"
    }
   ],
   "source": [
    "df=pd.DataFrame({'Batting players':Batsmen,'Natinality of team':nationality,'Rating':rate})\n",
    "df"
   ]
  },
  {
   "cell_type": "code",
   "execution_count": null,
   "id": "bd617385",
   "metadata": {},
   "outputs": [],
   "source": []
  }
 ],
 "metadata": {
  "kernelspec": {
   "display_name": "Python 3 (ipykernel)",
   "language": "python",
   "name": "python3"
  },
  "language_info": {
   "codemirror_mode": {
    "name": "ipython",
    "version": 3
   },
   "file_extension": ".py",
   "mimetype": "text/x-python",
   "name": "python",
   "nbconvert_exporter": "python",
   "pygments_lexer": "ipython3",
   "version": "3.9.12"
  }
 },
 "nbformat": 4,
 "nbformat_minor": 5
}
