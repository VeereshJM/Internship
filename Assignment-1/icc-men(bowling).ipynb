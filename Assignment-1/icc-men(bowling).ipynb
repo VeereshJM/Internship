{
 "cells": [
  {
   "cell_type": "code",
   "execution_count": 1,
   "id": "80a8741e",
   "metadata": {},
   "outputs": [],
   "source": [
    "import pandas as pd\n",
    "import requests\n",
    "from bs4 import BeautifulSoup"
   ]
  },
  {
   "cell_type": "code",
   "execution_count": 2,
   "id": "afb35a80",
   "metadata": {},
   "outputs": [
    {
     "data": {
      "text/plain": [
       "<Response [200]>"
      ]
     },
     "execution_count": 2,
     "metadata": {},
     "output_type": "execute_result"
    }
   ],
   "source": [
    "page=requests.get(\"https://www.icc-cricket.com/rankings/mens/player-rankings/odi/bowling\")\n",
    "page"
   ]
  },
  {
   "cell_type": "code",
   "execution_count": 3,
   "id": "97604617",
   "metadata": {},
   "outputs": [],
   "source": [
    "soup=BeautifulSoup(page.content)"
   ]
  },
  {
   "cell_type": "code",
   "execution_count": 4,
   "id": "9d5ae833",
   "metadata": {},
   "outputs": [],
   "source": [
    "name=[]\n",
    "nationality=[]\n",
    "rating=[]"
   ]
  },
  {
   "cell_type": "code",
   "execution_count": 5,
   "id": "eb8cc0a7",
   "metadata": {},
   "outputs": [
    {
     "data": {
      "text/plain": [
       "['Josh Hazlewood']"
      ]
     },
     "execution_count": 5,
     "metadata": {},
     "output_type": "execute_result"
    }
   ],
   "source": [
    "for i in soup.find_all('div',class_='rankings-block__banner--name-large'):\n",
    "    name.append(i.text)\n",
    "name"
   ]
  },
  {
   "cell_type": "code",
   "execution_count": 6,
   "id": "bbf429b6",
   "metadata": {},
   "outputs": [
    {
     "data": {
      "text/plain": [
       "['Josh Hazlewood',\n",
       " 'Trent Boult',\n",
       " 'Mohammed Siraj',\n",
       " 'Mitchell Starc',\n",
       " 'Rashid Khan',\n",
       " 'Adam Zampa',\n",
       " 'Shaheen Afridi',\n",
       " 'Mujeeb Ur Rahman',\n",
       " 'Shakib Al Hasan',\n",
       " 'Matt Henry',\n",
       " 'Mohammad Nabi',\n",
       " 'Alzarri Joseph',\n",
       " 'Chris Woakes',\n",
       " 'Mark Watt',\n",
       " 'Kagiso Rabada',\n",
       " 'Akeal Hosein',\n",
       " 'Pat Cummins',\n",
       " 'Mehedi Hasan',\n",
       " 'Jofra Archer',\n",
       " 'Mustafizur Rahman',\n",
       " 'Andy McBrine',\n",
       " 'Sandeep Lamichhane',\n",
       " 'Kuldeep Yadav',\n",
       " 'Lungi Ngidi',\n",
       " 'Bernard Scholtz',\n",
       " 'Jasprit Bumrah',\n",
       " 'Saurabh Netravalkar',\n",
       " 'Wanindu Hasaranga',\n",
       " 'Mohammad Nawaz',\n",
       " 'Adil Rashid',\n",
       " 'Mitchell Santner',\n",
       " 'Mohammad Shami',\n",
       " 'Bilal Khan',\n",
       " 'Keshav Maharaj',\n",
       " 'Mark Wood',\n",
       " 'Shadab Khan',\n",
       " 'Tim Southee',\n",
       " 'Joshua Little',\n",
       " 'David Willey',\n",
       " 'Taskin Ahmed',\n",
       " 'Rohan Mustafa',\n",
       " 'Shardul Thakur',\n",
       " 'Lachlan Ferguson',\n",
       " 'Yuzvendra Chahal',\n",
       " 'Dushmantha Chameera',\n",
       " 'Tabraiz Shamsi',\n",
       " 'Taijul Islam',\n",
       " 'Fred Klaassen',\n",
       " 'Ruben Trumpelmann',\n",
       " 'Safyaan Sharif',\n",
       " 'Zeeshan Maqsood',\n",
       " 'Dhananjaya de Silva',\n",
       " 'Dipendra Airee',\n",
       " 'Chad Soper',\n",
       " 'Blessing Muzarabani',\n",
       " 'Anrich Nortje',\n",
       " 'Simi Singh',\n",
       " 'Kaleemullah',\n",
       " 'Mark Adair',\n",
       " 'Nosthush Kenjige',\n",
       " 'Sam Curran',\n",
       " 'Zahoor Khan',\n",
       " 'Haris Rauf',\n",
       " 'Sean Abbott',\n",
       " 'Richard Ngarava',\n",
       " 'Assad Vala',\n",
       " 'Bhuvneshwar Kumar',\n",
       " 'Jason Holder',\n",
       " 'Sompal Kami',\n",
       " 'Moeen Ali',\n",
       " 'Tangeni Lungameni',\n",
       " 'Ashton Agar',\n",
       " 'Hasan Ali',\n",
       " 'Craig Young',\n",
       " 'Maheesh Theekshana',\n",
       " 'Hardik Pandya',\n",
       " 'Ish Sodhi',\n",
       " 'Ravindra Jadeja',\n",
       " 'Michael Leask',\n",
       " 'Sikandar Raza',\n",
       " 'Jhye Richardson',\n",
       " 'Reece Topley',\n",
       " 'Wayne Parnell',\n",
       " 'Andile Phehlukwayo',\n",
       " 'Hamza Tahir',\n",
       " 'Steven Taylor',\n",
       " 'Nuwan Pradeep',\n",
       " 'Christopher Sole',\n",
       " 'Tendai Chatara',\n",
       " 'Fazalhaq Farooqi',\n",
       " 'Khawar Ali',\n",
       " 'M. Prasidh Krishna',\n",
       " 'Junaid Siddique',\n",
       " 'Gulbadin Naib',\n",
       " 'J.J. Smit',\n",
       " 'Karan KC',\n",
       " 'Jeffrey Vandersay',\n",
       " 'Chamika Karunaratne',\n",
       " 'Marcus Stoinis',\n",
       " 'Logan van Beek']"
      ]
     },
     "execution_count": 6,
     "metadata": {},
     "output_type": "execute_result"
    }
   ],
   "source": [
    "for i in soup.find_all('td',class_='table-body__cell rankings-table__name name'):\n",
    "    name.append(i.text.replace('\\n',''))\n",
    "name"
   ]
  },
  {
   "cell_type": "code",
   "execution_count": 7,
   "id": "5c02d2a3",
   "metadata": {},
   "outputs": [
    {
     "data": {
      "text/plain": [
       "['Josh Hazlewood',\n",
       " 'Trent Boult',\n",
       " 'Mohammed Siraj',\n",
       " 'Mitchell Starc',\n",
       " 'Rashid Khan',\n",
       " 'Adam Zampa',\n",
       " 'Shaheen Afridi',\n",
       " 'Mujeeb Ur Rahman',\n",
       " 'Shakib Al Hasan',\n",
       " 'Matt Henry']"
      ]
     },
     "execution_count": 7,
     "metadata": {},
     "output_type": "execute_result"
    }
   ],
   "source": [
    "bowlers_name=name[0:10]\n",
    "bowlers_name"
   ]
  },
  {
   "cell_type": "code",
   "execution_count": 8,
   "id": "51fbc446",
   "metadata": {},
   "outputs": [
    {
     "data": {
      "text/plain": [
       "['AUS                    ']"
      ]
     },
     "execution_count": 8,
     "metadata": {},
     "output_type": "execute_result"
    }
   ],
   "source": [
    "for i in soup.find_all('div',class_='rankings-block__banner--nationality'):\n",
    "    nationality.append(i.text.replace(\"\\n\",\"\"))\n",
    "nationality"
   ]
  },
  {
   "cell_type": "code",
   "execution_count": 9,
   "id": "a94d12ea",
   "metadata": {},
   "outputs": [
    {
     "data": {
      "text/plain": [
       "['AUS                    ',\n",
       " 'NZ',\n",
       " 'IND',\n",
       " 'AUS',\n",
       " 'AFG',\n",
       " 'AUS',\n",
       " 'PAK',\n",
       " 'AFG',\n",
       " 'BAN',\n",
       " 'NZ',\n",
       " 'AFG',\n",
       " 'WI',\n",
       " 'ENG',\n",
       " 'SCO',\n",
       " 'SA',\n",
       " 'WI',\n",
       " 'AUS',\n",
       " 'BAN',\n",
       " 'ENG',\n",
       " 'BAN',\n",
       " 'IRE',\n",
       " 'NEP',\n",
       " 'IND',\n",
       " 'SA',\n",
       " 'NAM',\n",
       " 'IND',\n",
       " 'USA',\n",
       " 'SL',\n",
       " 'PAK',\n",
       " 'ENG',\n",
       " 'NZ',\n",
       " 'IND',\n",
       " 'OMA',\n",
       " 'SA',\n",
       " 'ENG',\n",
       " 'PAK',\n",
       " 'NZ',\n",
       " 'IRE',\n",
       " 'ENG',\n",
       " 'BAN',\n",
       " 'UAE',\n",
       " 'IND',\n",
       " 'NZ',\n",
       " 'IND',\n",
       " 'SL',\n",
       " 'SA',\n",
       " 'BAN',\n",
       " 'NED',\n",
       " 'NAM',\n",
       " 'SCO',\n",
       " 'OMA',\n",
       " 'SL',\n",
       " 'NEP',\n",
       " 'PNG',\n",
       " 'ZIM',\n",
       " 'SA',\n",
       " 'IRE',\n",
       " 'OMA',\n",
       " 'IRE',\n",
       " 'USA',\n",
       " 'ENG',\n",
       " 'UAE',\n",
       " 'PAK',\n",
       " 'AUS',\n",
       " 'ZIM',\n",
       " 'PNG',\n",
       " 'IND',\n",
       " 'WI',\n",
       " 'NEP',\n",
       " 'ENG',\n",
       " 'NAM',\n",
       " 'AUS',\n",
       " 'PAK',\n",
       " 'IRE',\n",
       " 'SL',\n",
       " 'IND',\n",
       " 'NZ',\n",
       " 'IND',\n",
       " 'SCO',\n",
       " 'ZIM',\n",
       " 'AUS',\n",
       " 'ENG',\n",
       " 'SA',\n",
       " 'SA',\n",
       " 'SCO',\n",
       " 'USA',\n",
       " 'SL',\n",
       " 'SCO',\n",
       " 'ZIM',\n",
       " 'AFG',\n",
       " 'OMA',\n",
       " 'IND',\n",
       " 'UAE',\n",
       " 'AFG',\n",
       " 'NAM',\n",
       " 'NEP',\n",
       " 'SL',\n",
       " 'SL',\n",
       " 'AUS',\n",
       " 'NED']"
      ]
     },
     "execution_count": 9,
     "metadata": {},
     "output_type": "execute_result"
    }
   ],
   "source": [
    "for i in soup.find_all(\"span\",class_='table-body__logo-text'):\n",
    "    nationality.append(i.text.replace(\"\\n\",\"\"))\n",
    "nationality"
   ]
  },
  {
   "cell_type": "code",
   "execution_count": 10,
   "id": "b0726989",
   "metadata": {},
   "outputs": [
    {
     "data": {
      "text/plain": [
       "['AUS                    ',\n",
       " 'NZ',\n",
       " 'IND',\n",
       " 'AUS',\n",
       " 'AFG',\n",
       " 'AUS',\n",
       " 'PAK',\n",
       " 'AFG',\n",
       " 'BAN',\n",
       " 'NZ']"
      ]
     },
     "execution_count": 10,
     "metadata": {},
     "output_type": "execute_result"
    }
   ],
   "source": [
    "bowlers_nationality=nationality[0:10]\n",
    "bowlers_nationality"
   ]
  },
  {
   "cell_type": "code",
   "execution_count": 11,
   "id": "a54a6afc",
   "metadata": {},
   "outputs": [
    {
     "data": {
      "text/plain": [
       "['705']"
      ]
     },
     "execution_count": 11,
     "metadata": {},
     "output_type": "execute_result"
    }
   ],
   "source": [
    "for i in soup.find_all('div',class_='rankings-block__banner--rating'):\n",
    "    rating.append(i.text)\n",
    "rating"
   ]
  },
  {
   "cell_type": "code",
   "execution_count": 12,
   "id": "e4cd622a",
   "metadata": {},
   "outputs": [
    {
     "data": {
      "text/plain": [
       "['705',\n",
       " '701',\n",
       " '691',\n",
       " '686',\n",
       " '659',\n",
       " '652',\n",
       " '641',\n",
       " '637',\n",
       " '636',\n",
       " '635',\n",
       " '631',\n",
       " '625',\n",
       " '612',\n",
       " '611',\n",
       " '610',\n",
       " '597',\n",
       " '597',\n",
       " '597',\n",
       " '596',\n",
       " '594',\n",
       " '593',\n",
       " '588',\n",
       " '576',\n",
       " '563',\n",
       " '558',\n",
       " '552',\n",
       " '551',\n",
       " '550',\n",
       " '549',\n",
       " '547',\n",
       " '546',\n",
       " '540',\n",
       " '532',\n",
       " '532',\n",
       " '523',\n",
       " '520',\n",
       " '517',\n",
       " '516',\n",
       " '514',\n",
       " '514',\n",
       " '508',\n",
       " '505',\n",
       " '505',\n",
       " '503',\n",
       " '501',\n",
       " '497',\n",
       " '487',\n",
       " '484',\n",
       " '483',\n",
       " '479',\n",
       " '478',\n",
       " '469',\n",
       " '468',\n",
       " '467',\n",
       " '467',\n",
       " '465',\n",
       " '464',\n",
       " '462',\n",
       " '458',\n",
       " '457',\n",
       " '454',\n",
       " '452',\n",
       " '449',\n",
       " '448',\n",
       " '447',\n",
       " '446',\n",
       " '446',\n",
       " '446',\n",
       " '445',\n",
       " '441',\n",
       " '439',\n",
       " '438',\n",
       " '436',\n",
       " '435',\n",
       " '430',\n",
       " '428',\n",
       " '428',\n",
       " '427',\n",
       " '426',\n",
       " '426',\n",
       " '421',\n",
       " '418',\n",
       " '418',\n",
       " '417',\n",
       " '413',\n",
       " '404',\n",
       " '403',\n",
       " '402',\n",
       " '401',\n",
       " '400',\n",
       " '398',\n",
       " '395',\n",
       " '391',\n",
       " '391',\n",
       " '390',\n",
       " '390',\n",
       " '386',\n",
       " '384',\n",
       " '382',\n",
       " '382']"
      ]
     },
     "execution_count": 12,
     "metadata": {},
     "output_type": "execute_result"
    }
   ],
   "source": [
    "for i in soup.find_all('td',class_='table-body__cell rating'):\n",
    "    rating.append(i.text)\n",
    "rating"
   ]
  },
  {
   "cell_type": "code",
   "execution_count": 13,
   "id": "30210fb2",
   "metadata": {},
   "outputs": [
    {
     "data": {
      "text/plain": [
       "['705', '701', '691', '686', '659', '652', '641', '637', '636', '635']"
      ]
     },
     "execution_count": 13,
     "metadata": {},
     "output_type": "execute_result"
    }
   ],
   "source": [
    "bowlers_rating=rating[0:10]\n",
    "bowlers_rating"
   ]
  },
  {
   "cell_type": "code",
   "execution_count": 14,
   "id": "451051cc",
   "metadata": {},
   "outputs": [
    {
     "data": {
      "text/html": [
       "<div>\n",
       "<style scoped>\n",
       "    .dataframe tbody tr th:only-of-type {\n",
       "        vertical-align: middle;\n",
       "    }\n",
       "\n",
       "    .dataframe tbody tr th {\n",
       "        vertical-align: top;\n",
       "    }\n",
       "\n",
       "    .dataframe thead th {\n",
       "        text-align: right;\n",
       "    }\n",
       "</style>\n",
       "<table border=\"1\" class=\"dataframe\">\n",
       "  <thead>\n",
       "    <tr style=\"text-align: right;\">\n",
       "      <th></th>\n",
       "      <th>Bowlers name</th>\n",
       "      <th>Bowlers nationality</th>\n",
       "      <th>Bowlers rating</th>\n",
       "    </tr>\n",
       "  </thead>\n",
       "  <tbody>\n",
       "    <tr>\n",
       "      <th>0</th>\n",
       "      <td>Josh Hazlewood</td>\n",
       "      <td>AUS</td>\n",
       "      <td>705</td>\n",
       "    </tr>\n",
       "    <tr>\n",
       "      <th>1</th>\n",
       "      <td>Trent Boult</td>\n",
       "      <td>NZ</td>\n",
       "      <td>701</td>\n",
       "    </tr>\n",
       "    <tr>\n",
       "      <th>2</th>\n",
       "      <td>Mohammed Siraj</td>\n",
       "      <td>IND</td>\n",
       "      <td>691</td>\n",
       "    </tr>\n",
       "    <tr>\n",
       "      <th>3</th>\n",
       "      <td>Mitchell Starc</td>\n",
       "      <td>AUS</td>\n",
       "      <td>686</td>\n",
       "    </tr>\n",
       "    <tr>\n",
       "      <th>4</th>\n",
       "      <td>Rashid Khan</td>\n",
       "      <td>AFG</td>\n",
       "      <td>659</td>\n",
       "    </tr>\n",
       "    <tr>\n",
       "      <th>5</th>\n",
       "      <td>Adam Zampa</td>\n",
       "      <td>AUS</td>\n",
       "      <td>652</td>\n",
       "    </tr>\n",
       "    <tr>\n",
       "      <th>6</th>\n",
       "      <td>Shaheen Afridi</td>\n",
       "      <td>PAK</td>\n",
       "      <td>641</td>\n",
       "    </tr>\n",
       "    <tr>\n",
       "      <th>7</th>\n",
       "      <td>Mujeeb Ur Rahman</td>\n",
       "      <td>AFG</td>\n",
       "      <td>637</td>\n",
       "    </tr>\n",
       "    <tr>\n",
       "      <th>8</th>\n",
       "      <td>Shakib Al Hasan</td>\n",
       "      <td>BAN</td>\n",
       "      <td>636</td>\n",
       "    </tr>\n",
       "    <tr>\n",
       "      <th>9</th>\n",
       "      <td>Matt Henry</td>\n",
       "      <td>NZ</td>\n",
       "      <td>635</td>\n",
       "    </tr>\n",
       "  </tbody>\n",
       "</table>\n",
       "</div>"
      ],
      "text/plain": [
       "       Bowlers name      Bowlers nationality Bowlers rating\n",
       "0    Josh Hazlewood  AUS                                705\n",
       "1       Trent Boult                       NZ            701\n",
       "2    Mohammed Siraj                      IND            691\n",
       "3    Mitchell Starc                      AUS            686\n",
       "4       Rashid Khan                      AFG            659\n",
       "5        Adam Zampa                      AUS            652\n",
       "6    Shaheen Afridi                      PAK            641\n",
       "7  Mujeeb Ur Rahman                      AFG            637\n",
       "8   Shakib Al Hasan                      BAN            636\n",
       "9        Matt Henry                       NZ            635"
      ]
     },
     "execution_count": 14,
     "metadata": {},
     "output_type": "execute_result"
    }
   ],
   "source": [
    "df=pd.DataFrame({'Bowlers name':bowlers_name,'Bowlers nationality':bowlers_nationality,\"Bowlers rating\":bowlers_rating})\n",
    "df"
   ]
  },
  {
   "cell_type": "code",
   "execution_count": null,
   "id": "599b2fea",
   "metadata": {},
   "outputs": [],
   "source": []
  },
  {
   "cell_type": "code",
   "execution_count": null,
   "id": "186fbfe2",
   "metadata": {},
   "outputs": [],
   "source": []
  }
 ],
 "metadata": {
  "kernelspec": {
   "display_name": "Python 3 (ipykernel)",
   "language": "python",
   "name": "python3"
  },
  "language_info": {
   "codemirror_mode": {
    "name": "ipython",
    "version": 3
   },
   "file_extension": ".py",
   "mimetype": "text/x-python",
   "name": "python",
   "nbconvert_exporter": "python",
   "pygments_lexer": "ipython3",
   "version": "3.9.12"
  }
 },
 "nbformat": 4,
 "nbformat_minor": 5
}
