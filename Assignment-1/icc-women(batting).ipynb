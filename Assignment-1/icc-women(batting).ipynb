{
 "cells": [
  {
   "cell_type": "code",
   "execution_count": 1,
   "id": "c75f9e10",
   "metadata": {},
   "outputs": [],
   "source": [
    "import  pandas as pd\n",
    "import requests\n",
    "from bs4 import BeautifulSoup"
   ]
  },
  {
   "cell_type": "code",
   "execution_count": 2,
   "id": "893ac736",
   "metadata": {},
   "outputs": [
    {
     "data": {
      "text/plain": [
       "<Response [200]>"
      ]
     },
     "execution_count": 2,
     "metadata": {},
     "output_type": "execute_result"
    }
   ],
   "source": [
    "page=requests.get(\"https://www.icc-cricket.com/rankings/womens/player-rankings/odi/batting\")\n",
    "page"
   ]
  },
  {
   "cell_type": "code",
   "execution_count": 3,
   "id": "45f849f3",
   "metadata": {},
   "outputs": [],
   "source": [
    "soup=BeautifulSoup(page.content)"
   ]
  },
  {
   "cell_type": "code",
   "execution_count": 4,
   "id": "f46bb88c",
   "metadata": {},
   "outputs": [],
   "source": [
    "player=[]\n",
    "team=[]\n",
    "rating=[]"
   ]
  },
  {
   "cell_type": "code",
   "execution_count": 5,
   "id": "249505b3",
   "metadata": {},
   "outputs": [
    {
     "data": {
      "text/plain": [
       "['Alyssa Healy']"
      ]
     },
     "execution_count": 5,
     "metadata": {},
     "output_type": "execute_result"
    }
   ],
   "source": [
    "for i in soup.find_all('div',class_='rankings-block__banner--name-large'):\n",
    "    player.append(i.text)\n",
    "player"
   ]
  },
  {
   "cell_type": "code",
   "execution_count": 6,
   "id": "02abac1d",
   "metadata": {},
   "outputs": [
    {
     "data": {
      "text/plain": [
       "['Alyssa Healy',\n",
       " 'Beth Mooney',\n",
       " 'Laura Wolvaardt',\n",
       " 'Natalie Sciver',\n",
       " 'Meg Lanning',\n",
       " 'Harmanpreet Kaur',\n",
       " 'Smriti Mandhana',\n",
       " 'Rachael Haynes',\n",
       " 'Chamari Athapaththu',\n",
       " 'Amy Satterthwaite',\n",
       " 'Ellyse Perry',\n",
       " 'Tammy Beaumont',\n",
       " 'Deandra Dottin',\n",
       " 'Stafanie Taylor',\n",
       " 'Suzie Bates',\n",
       " 'Amelia Kerr',\n",
       " 'Marizanne Kapp',\n",
       " 'Hayley Matthews',\n",
       " 'Danielle Wyatt',\n",
       " 'Chloe-Lesleigh Tryon',\n",
       " 'Heather Knight',\n",
       " 'Bismah Maroof',\n",
       " 'Mignon du Preez',\n",
       " 'Sophie Devine',\n",
       " 'Deepti Sharma',\n",
       " 'Amy Jones',\n",
       " 'Sidra Ameen',\n",
       " 'Maddie Green',\n",
       " 'Ashleigh Gardner',\n",
       " 'Sune Luus',\n",
       " 'Gaby Lewis',\n",
       " 'Nida Dar',\n",
       " 'Laura Delany',\n",
       " 'Sophia Dunkley',\n",
       " 'Fargana Hoque',\n",
       " 'Tahlia McGrath',\n",
       " 'Aliya Riaz',\n",
       " 'Yastika Bhatia',\n",
       " 'Shafali Verma',\n",
       " 'Nigar Sultana',\n",
       " 'Harshitha Madavi',\n",
       " 'Rumana Ahmed',\n",
       " 'Nahida Khan',\n",
       " 'Poonam Raut',\n",
       " 'Muneeba Ali',\n",
       " 'Umaima Sohail',\n",
       " 'Babette de Leede',\n",
       " 'Lara Goodall',\n",
       " 'Nattakan Chantam',\n",
       " 'Amy Hunter',\n",
       " 'Emma Lamb',\n",
       " 'Nilakshi Silva',\n",
       " 'Pooja Vastrakar',\n",
       " 'Leah Paul',\n",
       " 'Dane van Niekerk',\n",
       " 'Javeria Khan',\n",
       " 'Lauren Down',\n",
       " 'Jess Jonassen',\n",
       " 'Katherine Brunt',\n",
       " 'Brooke Halliday',\n",
       " 'Sharmin Supta',\n",
       " 'Shemaine Campbelle',\n",
       " 'Salma Khatun',\n",
       " 'Trisha Chetty',\n",
       " 'Andrie Steyn',\n",
       " 'Charlotte Dean',\n",
       " 'Jhulan Goswami',\n",
       " 'Lauren Winfield',\n",
       " 'Chedean Nation',\n",
       " 'Richa Ghosh',\n",
       " 'Orla Prendergast',\n",
       " 'Prasadani Weerakkody',\n",
       " 'Lata Mondal',\n",
       " 'Annabel Sutherland',\n",
       " 'Katie Perkins',\n",
       " 'Sophie Ecclestone',\n",
       " 'Kycia Knight',\n",
       " 'Hasini Perera',\n",
       " 'Rashada Williams',\n",
       " 'Kavisha Dilhari',\n",
       " 'Ritu Moni',\n",
       " 'Nicola Carey',\n",
       " 'Mary Waldron',\n",
       " 'Naruemol Chaiwai',\n",
       " 'Phoebe Litchfield',\n",
       " 'Harleen Deol',\n",
       " 'Eimear Richardson',\n",
       " 'Mary-Anne Musonda',\n",
       " 'Shamima Sultana',\n",
       " 'Kate Cross',\n",
       " 'Nannapat Koncharoenkai',\n",
       " 'Georgina Dempsey',\n",
       " 'Chinelle Henry',\n",
       " 'Murshida Khatun',\n",
       " 'Shikha Pandey',\n",
       " 'Jess Kerr',\n",
       " 'Rosenan Kanoh',\n",
       " 'Tazmin Brits',\n",
       " 'Josephine Nkomo',\n",
       " 'Heather Siegers']"
      ]
     },
     "execution_count": 6,
     "metadata": {},
     "output_type": "execute_result"
    }
   ],
   "source": [
    "for i in soup.find_all('td',class_='table-body__cell rankings-table__name name'):\n",
    "    player.append(i.text.replace(\"\\n\",''))\n",
    "player"
   ]
  },
  {
   "cell_type": "code",
   "execution_count": 7,
   "id": "9aee968b",
   "metadata": {},
   "outputs": [
    {
     "data": {
      "text/plain": [
       "['Alyssa Healy',\n",
       " 'Beth Mooney',\n",
       " 'Laura Wolvaardt',\n",
       " 'Natalie Sciver',\n",
       " 'Meg Lanning',\n",
       " 'Harmanpreet Kaur',\n",
       " 'Smriti Mandhana',\n",
       " 'Rachael Haynes',\n",
       " 'Chamari Athapaththu',\n",
       " 'Amy Satterthwaite']"
      ]
     },
     "execution_count": 7,
     "metadata": {},
     "output_type": "execute_result"
    }
   ],
   "source": [
    "player_name=player[0:10]\n",
    "player_name"
   ]
  },
  {
   "cell_type": "code",
   "execution_count": 8,
   "id": "1cf055a8",
   "metadata": {},
   "outputs": [
    {
     "data": {
      "text/plain": [
       "['AUS                    ']"
      ]
     },
     "execution_count": 8,
     "metadata": {},
     "output_type": "execute_result"
    }
   ],
   "source": [
    "for i in soup.find_all('div',class_='rankings-block__banner--nationality'):\n",
    "    team.append(i.text.replace(\"\\n\",\"\"))\n",
    "team"
   ]
  },
  {
   "cell_type": "code",
   "execution_count": 9,
   "id": "825a095f",
   "metadata": {},
   "outputs": [
    {
     "data": {
      "text/plain": [
       "['AUS                    ',\n",
       " 'AUS',\n",
       " 'SA',\n",
       " 'ENG',\n",
       " 'AUS',\n",
       " 'IND',\n",
       " 'IND',\n",
       " 'AUS',\n",
       " 'SL',\n",
       " 'NZ',\n",
       " 'AUS',\n",
       " 'ENG',\n",
       " 'WI',\n",
       " 'WI',\n",
       " 'NZ',\n",
       " 'NZ',\n",
       " 'SA',\n",
       " 'WI',\n",
       " 'ENG',\n",
       " 'SA',\n",
       " 'ENG',\n",
       " 'PAK',\n",
       " 'SA',\n",
       " 'NZ',\n",
       " 'IND',\n",
       " 'ENG',\n",
       " 'PAK',\n",
       " 'NZ',\n",
       " 'AUS',\n",
       " 'SA',\n",
       " 'IRE',\n",
       " 'PAK',\n",
       " 'IRE',\n",
       " 'ENG',\n",
       " 'BAN',\n",
       " 'AUS',\n",
       " 'PAK',\n",
       " 'IND',\n",
       " 'IND',\n",
       " 'BAN',\n",
       " 'SL',\n",
       " 'BAN',\n",
       " 'PAK',\n",
       " 'IND',\n",
       " 'PAK',\n",
       " 'PAK',\n",
       " 'NED',\n",
       " 'SA',\n",
       " 'THA',\n",
       " 'IRE',\n",
       " 'ENG',\n",
       " 'SL',\n",
       " 'IND',\n",
       " 'IRE',\n",
       " 'SA',\n",
       " 'PAK',\n",
       " 'NZ',\n",
       " 'AUS',\n",
       " 'ENG',\n",
       " 'NZ',\n",
       " 'BAN',\n",
       " 'WI',\n",
       " 'BAN',\n",
       " 'SA',\n",
       " 'SA',\n",
       " 'ENG',\n",
       " 'IND',\n",
       " 'ENG',\n",
       " 'WI',\n",
       " 'IND',\n",
       " 'IRE',\n",
       " 'SL',\n",
       " 'BAN',\n",
       " 'AUS',\n",
       " 'NZ',\n",
       " 'ENG',\n",
       " 'WI',\n",
       " 'SL',\n",
       " 'WI',\n",
       " 'SL',\n",
       " 'BAN',\n",
       " 'AUS',\n",
       " 'IRE',\n",
       " 'THA',\n",
       " 'AUS',\n",
       " 'IND',\n",
       " 'IRE',\n",
       " 'ZIM',\n",
       " 'BAN',\n",
       " 'ENG',\n",
       " 'THA',\n",
       " 'IRE',\n",
       " 'WI',\n",
       " 'BAN',\n",
       " 'IND',\n",
       " 'NZ',\n",
       " 'THA',\n",
       " 'SA',\n",
       " 'ZIM',\n",
       " 'NED']"
      ]
     },
     "execution_count": 9,
     "metadata": {},
     "output_type": "execute_result"
    }
   ],
   "source": [
    "for i in soup.find_all('span',class_='table-body__logo-text'):\n",
    "    team.append(i.text.replace(\"\\n\",\"\"))\n",
    "team"
   ]
  },
  {
   "cell_type": "code",
   "execution_count": 10,
   "id": "8cb2687f",
   "metadata": {},
   "outputs": [
    {
     "data": {
      "text/plain": [
       "['AUS                    ',\n",
       " 'AUS',\n",
       " 'SA',\n",
       " 'ENG',\n",
       " 'AUS',\n",
       " 'IND',\n",
       " 'IND',\n",
       " 'AUS',\n",
       " 'SL',\n",
       " 'NZ']"
      ]
     },
     "execution_count": 10,
     "metadata": {},
     "output_type": "execute_result"
    }
   ],
   "source": [
    "team_nationality=team[0:10]\n",
    "team_nationality"
   ]
  },
  {
   "cell_type": "code",
   "execution_count": 11,
   "id": "93e79d98",
   "metadata": {},
   "outputs": [
    {
     "data": {
      "text/plain": [
       "['762']"
      ]
     },
     "execution_count": 11,
     "metadata": {},
     "output_type": "execute_result"
    }
   ],
   "source": [
    "for i in soup.find_all('div',class_='rankings-block__banner--rating'):\n",
    "    rating.append(i.text)\n",
    "rating"
   ]
  },
  {
   "cell_type": "code",
   "execution_count": 12,
   "id": "08aeb626",
   "metadata": {},
   "outputs": [
    {
     "data": {
      "text/plain": [
       "['762',\n",
       " '754',\n",
       " '732',\n",
       " '731',\n",
       " '717',\n",
       " '716',\n",
       " '714',\n",
       " '680',\n",
       " '655',\n",
       " '641',\n",
       " '626',\n",
       " '595',\n",
       " '589',\n",
       " '588',\n",
       " '588',\n",
       " '587',\n",
       " '585',\n",
       " '566',\n",
       " '566',\n",
       " '557',\n",
       " '555',\n",
       " '551',\n",
       " '548',\n",
       " '548',\n",
       " '547',\n",
       " '535',\n",
       " '522',\n",
       " '509',\n",
       " '507',\n",
       " '496',\n",
       " '485',\n",
       " '476',\n",
       " '475',\n",
       " '465',\n",
       " '462',\n",
       " '448',\n",
       " '432',\n",
       " '426',\n",
       " '405',\n",
       " '403',\n",
       " '402',\n",
       " '399',\n",
       " '398',\n",
       " '397',\n",
       " '395',\n",
       " '395',\n",
       " '394',\n",
       " '394',\n",
       " '386',\n",
       " '385',\n",
       " '384',\n",
       " '384',\n",
       " '380',\n",
       " '372',\n",
       " '363',\n",
       " '360',\n",
       " '346',\n",
       " '346',\n",
       " '345',\n",
       " '337',\n",
       " '333',\n",
       " '323',\n",
       " '320',\n",
       " '314',\n",
       " '311',\n",
       " '310',\n",
       " '307',\n",
       " '305',\n",
       " '304',\n",
       " '302',\n",
       " '298',\n",
       " '298',\n",
       " '296',\n",
       " '285',\n",
       " '276',\n",
       " '273',\n",
       " '272',\n",
       " '267',\n",
       " '266',\n",
       " '266',\n",
       " '266',\n",
       " '265',\n",
       " '263',\n",
       " '257',\n",
       " '253',\n",
       " '253',\n",
       " '247',\n",
       " '244',\n",
       " '241',\n",
       " '239',\n",
       " '235',\n",
       " '232',\n",
       " '231',\n",
       " '228',\n",
       " '228',\n",
       " '226',\n",
       " '225',\n",
       " '224',\n",
       " '222',\n",
       " '222']"
      ]
     },
     "execution_count": 12,
     "metadata": {},
     "output_type": "execute_result"
    }
   ],
   "source": [
    "for i in soup.find_all('td',class_='table-body__cell rating'):\n",
    "    rating.append(i.text)\n",
    "rating"
   ]
  },
  {
   "cell_type": "code",
   "execution_count": 13,
   "id": "17c8d0a4",
   "metadata": {},
   "outputs": [
    {
     "data": {
      "text/plain": [
       "['762', '754', '732', '731', '717', '716', '714', '680', '655', '641']"
      ]
     },
     "execution_count": 13,
     "metadata": {},
     "output_type": "execute_result"
    }
   ],
   "source": [
    "player_rating=rating[0:10]\n",
    "player_rating"
   ]
  },
  {
   "cell_type": "code",
   "execution_count": 14,
   "id": "6cb89a6b",
   "metadata": {},
   "outputs": [
    {
     "data": {
      "text/html": [
       "<div>\n",
       "<style scoped>\n",
       "    .dataframe tbody tr th:only-of-type {\n",
       "        vertical-align: middle;\n",
       "    }\n",
       "\n",
       "    .dataframe tbody tr th {\n",
       "        vertical-align: top;\n",
       "    }\n",
       "\n",
       "    .dataframe thead th {\n",
       "        text-align: right;\n",
       "    }\n",
       "</style>\n",
       "<table border=\"1\" class=\"dataframe\">\n",
       "  <thead>\n",
       "    <tr style=\"text-align: right;\">\n",
       "      <th></th>\n",
       "      <th>Player name</th>\n",
       "      <th>Player nationality</th>\n",
       "      <th>Player rating</th>\n",
       "    </tr>\n",
       "  </thead>\n",
       "  <tbody>\n",
       "    <tr>\n",
       "      <th>0</th>\n",
       "      <td>Alyssa Healy</td>\n",
       "      <td>AUS</td>\n",
       "      <td>762</td>\n",
       "    </tr>\n",
       "    <tr>\n",
       "      <th>1</th>\n",
       "      <td>Beth Mooney</td>\n",
       "      <td>AUS</td>\n",
       "      <td>754</td>\n",
       "    </tr>\n",
       "    <tr>\n",
       "      <th>2</th>\n",
       "      <td>Laura Wolvaardt</td>\n",
       "      <td>SA</td>\n",
       "      <td>732</td>\n",
       "    </tr>\n",
       "    <tr>\n",
       "      <th>3</th>\n",
       "      <td>Natalie Sciver</td>\n",
       "      <td>ENG</td>\n",
       "      <td>731</td>\n",
       "    </tr>\n",
       "    <tr>\n",
       "      <th>4</th>\n",
       "      <td>Meg Lanning</td>\n",
       "      <td>AUS</td>\n",
       "      <td>717</td>\n",
       "    </tr>\n",
       "    <tr>\n",
       "      <th>5</th>\n",
       "      <td>Harmanpreet Kaur</td>\n",
       "      <td>IND</td>\n",
       "      <td>716</td>\n",
       "    </tr>\n",
       "    <tr>\n",
       "      <th>6</th>\n",
       "      <td>Smriti Mandhana</td>\n",
       "      <td>IND</td>\n",
       "      <td>714</td>\n",
       "    </tr>\n",
       "    <tr>\n",
       "      <th>7</th>\n",
       "      <td>Rachael Haynes</td>\n",
       "      <td>AUS</td>\n",
       "      <td>680</td>\n",
       "    </tr>\n",
       "    <tr>\n",
       "      <th>8</th>\n",
       "      <td>Chamari Athapaththu</td>\n",
       "      <td>SL</td>\n",
       "      <td>655</td>\n",
       "    </tr>\n",
       "    <tr>\n",
       "      <th>9</th>\n",
       "      <td>Amy Satterthwaite</td>\n",
       "      <td>NZ</td>\n",
       "      <td>641</td>\n",
       "    </tr>\n",
       "  </tbody>\n",
       "</table>\n",
       "</div>"
      ],
      "text/plain": [
       "           Player name       Player nationality Player rating\n",
       "0         Alyssa Healy  AUS                               762\n",
       "1          Beth Mooney                      AUS           754\n",
       "2      Laura Wolvaardt                       SA           732\n",
       "3       Natalie Sciver                      ENG           731\n",
       "4          Meg Lanning                      AUS           717\n",
       "5     Harmanpreet Kaur                      IND           716\n",
       "6      Smriti Mandhana                      IND           714\n",
       "7       Rachael Haynes                      AUS           680\n",
       "8  Chamari Athapaththu                       SL           655\n",
       "9    Amy Satterthwaite                       NZ           641"
      ]
     },
     "execution_count": 14,
     "metadata": {},
     "output_type": "execute_result"
    }
   ],
   "source": [
    "df=pd.DataFrame({'Player name':player_name,'Player nationality':team_nationality,'Player rating':player_rating})\n",
    "df"
   ]
  },
  {
   "cell_type": "code",
   "execution_count": null,
   "id": "046349d7",
   "metadata": {},
   "outputs": [],
   "source": []
  },
  {
   "cell_type": "code",
   "execution_count": null,
   "id": "bb988bb8",
   "metadata": {},
   "outputs": [],
   "source": []
  }
 ],
 "metadata": {
  "kernelspec": {
   "display_name": "Python 3 (ipykernel)",
   "language": "python",
   "name": "python3"
  },
  "language_info": {
   "codemirror_mode": {
    "name": "ipython",
    "version": 3
   },
   "file_extension": ".py",
   "mimetype": "text/x-python",
   "name": "python",
   "nbconvert_exporter": "python",
   "pygments_lexer": "ipython3",
   "version": "3.9.12"
  }
 },
 "nbformat": 4,
 "nbformat_minor": 5
}
